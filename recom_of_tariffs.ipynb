{
 "cells": [
  {
   "cell_type": "markdown",
   "id": "2f54f9cc",
   "metadata": {},
   "source": [
    "<div class=\"alert alert-info\">\n",
    "<font size=\"5\"><b>Комментарий ревьюера</b></font>\n",
    "\n",
    "Привет Сергей! Меня зовут Марат, и я буду твоим ревьюером. Спешу сообщить что все ключевые этапы в работе выполнены,  с задачей тебе удалось справиться. По поводу обращения - в IT сфере принято общаться на «ты» :) Но, если привычней на «вы», дай знать. Как ревьюера моя задача помочь тебе в развитии, дав хорошие советы. Я внимательно посмотрю твой код, ознакомлюсь с твоими выводами и оставлю комментарии. Где то могу предложить небольшие исправление в коде, но ненавязчиво. Где потребуются уточнения, я оставлю много наводящих вопросов. Они помогут тебя с поиском верного решения.\n",
    "\n",
    "Все мои комментарии размечены по цветам, для лучшего восприятия. \n",
    "    \n",
    "<div class=\"alert alert-success\">Зеленым цветом и словом «Успех» отмечены особо удачные и элегантные решения, которыми ты можешь гордиться. </div>\n",
    "        \n",
    "<div class=\"alert alert-warning\">Желтым и значком словом «Совет», помечены решения у которых есть альтернативные решения, более оптимальные. Ты можешь найти их сразу и доработать проект, или отложить это на потом, для будущих проектах. Проект будет принят и без их доработки. </div>\n",
    "        \n",
    "<div class=\"alert alert-danger\"> Красным цветом и значком словом «Ошибка» помечу твои решения, на которые стоит обратить внимание прежде всего. После их доработки проект будет принят. </div>\n",
    "        \n",
    "Залог успеха - работа сообща, взаимное уважение и работа в диалоге. Поэтому, помечай свои ответные комментарии на мои реплики заметным цветом или курсивом, так мне будет легче их отслеживать. Пожалуйста, не изменяй и не удаляй мои комментарии. Все это поможет выполнить повторную проверку быстрей.\n",
    "\n",
    "</div>"
   ]
  },
  {
   "cell_type": "markdown",
   "id": "9d7ebe8a",
   "metadata": {},
   "source": [
    "# Рекомендация тарифов"
   ]
  },
  {
   "cell_type": "markdown",
   "id": "69bfab01",
   "metadata": {},
   "source": [
    "# Описание проекта\n",
    "Оператор мобильной связи «Мегалайн» выяснил: многие клиенты пользуются архивными тарифами. Они хотят построить систему, способную проанализировать поведение клиентов и предложить пользователям новый тариф: «Смарт» или «Ультра».\n",
    "\n",
    " В вашем распоряжении данные о поведении клиентов, которые уже перешли на эти тарифы (из проекта курса «Статистический анализ данных»). Нужно построить модель для задачи классификации, которая выберет подходящий тариф. Предобработка данных не понадобится — вы её уже сделали.\n",
    " \n",
    " \n",
    "Постройте модель с максимально большим значением accuracy. Чтобы сдать проект успешно, нужно довести долю правильных ответов по крайней мере до 0.75. Проверьте accuracy на тестовой выборке самостоятельно."
   ]
  },
  {
   "cell_type": "markdown",
   "id": "f0af399f",
   "metadata": {},
   "source": [
    "# Инструкция по выполнению проекта\n",
    "\n",
    "* Разделите исходные данные на обучающую, валидационную и тестовую выборки.\n",
    "\n",
    "\n",
    "\n",
    "* Исследуйте качество разных моделей, меняя гиперпараметры. Кратко напишите выводы исследования.\n",
    "\n",
    "\n",
    "\n",
    "* Проверьте качество модели на тестовой выборке.\n",
    "\n",
    "\n",
    "\n",
    "* Дополнительное задание: проверьте модели на вменяемость. Ничего страшного, если не получится: эти данные сложнее тех, с которыми вы работали раньше. В следующем курсе подробнее об этом расскажем.\n"
   ]
  },
  {
   "cell_type": "markdown",
   "id": "9f8ce4d6",
   "metadata": {},
   "source": [
    "<div class=\"alert alert-success\">\n",
    "<font size=\"5\"><b>Комментарий ревьюера</b></font>\n",
    "\n",
    "Успех:\n",
    "\n",
    "\n",
    "Вступление в работу очень важно, так человек, который смотрит твой проект (и на работе в том числе) будет сразу введен в курс дела.\n",
    "\n",
    "\n",
    "\n",
    "\n",
    "\n",
    "</div>"
   ]
  },
  {
   "cell_type": "code",
   "execution_count": 1,
   "id": "e4cd103f",
   "metadata": {},
   "outputs": [],
   "source": [
    "import pandas as pd\n",
    "from sklearn.model_selection import train_test_split\n",
    "from sklearn.tree import DecisionTreeClassifier\n",
    "from sklearn.metrics import accuracy_score\n",
    "import seaborn as sns\n",
    "import matplotlib.pyplot as plt\n",
    "import matplotlib.ticker as ticker\n",
    "from sklearn.ensemble import RandomForestClassifier\n",
    "import matplotlib\n",
    "from sklearn.linear_model import LogisticRegression "
   ]
  },
  {
   "cell_type": "code",
   "execution_count": 2,
   "id": "bbc794bf",
   "metadata": {},
   "outputs": [],
   "source": [
    "try: \n",
    "    data = pd.read_csv('/Users/Sergej/Desktop/Practicum/Project_ml1/users_behavior.csv')\n",
    "except: \n",
    "    data = pd.read_csv('/datasets/users_behavior.csv')"
   ]
  },
  {
   "cell_type": "markdown",
   "id": "5e1b0c5b",
   "metadata": {},
   "source": [
    "<div class=\"alert alert-success\">\n",
    "<font size=\"5\"><b>Комментарий ревьюера</b></font>\n",
    "\n",
    "Молодец что используешь конструкцию try - except (if - else), этим ты проявляешь уважение к тем кто будет работать с твоим кодом.\n",
    "\n",
    "</div>"
   ]
  },
  {
   "cell_type": "markdown",
   "id": "f877453d",
   "metadata": {},
   "source": [
    "### 1) Посмотрим на датасет и разделим данные.\n",
    "Вообще говоря, признаки могут быть разными, но мы возьмем все кроме `is_ultra`, его мы будем предсказывать. Все признаки нам подходят, потому что каждый столбец несет информацию, которая влияет на выбор тарифа. \n",
    "\n",
    "Затем разделим данные на обучающую, валидационную и тестовую выборки в соотношении 60% / 20% / 20% от общей выборки соответственно. "
   ]
  },
  {
   "cell_type": "code",
   "execution_count": 3,
   "id": "8e47dbe8",
   "metadata": {},
   "outputs": [
    {
     "data": {
      "text/html": [
       "<div>\n",
       "<style scoped>\n",
       "    .dataframe tbody tr th:only-of-type {\n",
       "        vertical-align: middle;\n",
       "    }\n",
       "\n",
       "    .dataframe tbody tr th {\n",
       "        vertical-align: top;\n",
       "    }\n",
       "\n",
       "    .dataframe thead th {\n",
       "        text-align: right;\n",
       "    }\n",
       "</style>\n",
       "<table border=\"1\" class=\"dataframe\">\n",
       "  <thead>\n",
       "    <tr style=\"text-align: right;\">\n",
       "      <th></th>\n",
       "      <th>calls</th>\n",
       "      <th>minutes</th>\n",
       "      <th>messages</th>\n",
       "      <th>mb_used</th>\n",
       "      <th>is_ultra</th>\n",
       "    </tr>\n",
       "  </thead>\n",
       "  <tbody>\n",
       "    <tr>\n",
       "      <th>0</th>\n",
       "      <td>40.0</td>\n",
       "      <td>311.90</td>\n",
       "      <td>83.0</td>\n",
       "      <td>19915.42</td>\n",
       "      <td>0</td>\n",
       "    </tr>\n",
       "    <tr>\n",
       "      <th>1</th>\n",
       "      <td>85.0</td>\n",
       "      <td>516.75</td>\n",
       "      <td>56.0</td>\n",
       "      <td>22696.96</td>\n",
       "      <td>0</td>\n",
       "    </tr>\n",
       "    <tr>\n",
       "      <th>2</th>\n",
       "      <td>77.0</td>\n",
       "      <td>467.66</td>\n",
       "      <td>86.0</td>\n",
       "      <td>21060.45</td>\n",
       "      <td>0</td>\n",
       "    </tr>\n",
       "    <tr>\n",
       "      <th>3</th>\n",
       "      <td>106.0</td>\n",
       "      <td>745.53</td>\n",
       "      <td>81.0</td>\n",
       "      <td>8437.39</td>\n",
       "      <td>1</td>\n",
       "    </tr>\n",
       "    <tr>\n",
       "      <th>4</th>\n",
       "      <td>66.0</td>\n",
       "      <td>418.74</td>\n",
       "      <td>1.0</td>\n",
       "      <td>14502.75</td>\n",
       "      <td>0</td>\n",
       "    </tr>\n",
       "    <tr>\n",
       "      <th>...</th>\n",
       "      <td>...</td>\n",
       "      <td>...</td>\n",
       "      <td>...</td>\n",
       "      <td>...</td>\n",
       "      <td>...</td>\n",
       "    </tr>\n",
       "    <tr>\n",
       "      <th>3209</th>\n",
       "      <td>122.0</td>\n",
       "      <td>910.98</td>\n",
       "      <td>20.0</td>\n",
       "      <td>35124.90</td>\n",
       "      <td>1</td>\n",
       "    </tr>\n",
       "    <tr>\n",
       "      <th>3210</th>\n",
       "      <td>25.0</td>\n",
       "      <td>190.36</td>\n",
       "      <td>0.0</td>\n",
       "      <td>3275.61</td>\n",
       "      <td>0</td>\n",
       "    </tr>\n",
       "    <tr>\n",
       "      <th>3211</th>\n",
       "      <td>97.0</td>\n",
       "      <td>634.44</td>\n",
       "      <td>70.0</td>\n",
       "      <td>13974.06</td>\n",
       "      <td>0</td>\n",
       "    </tr>\n",
       "    <tr>\n",
       "      <th>3212</th>\n",
       "      <td>64.0</td>\n",
       "      <td>462.32</td>\n",
       "      <td>90.0</td>\n",
       "      <td>31239.78</td>\n",
       "      <td>0</td>\n",
       "    </tr>\n",
       "    <tr>\n",
       "      <th>3213</th>\n",
       "      <td>80.0</td>\n",
       "      <td>566.09</td>\n",
       "      <td>6.0</td>\n",
       "      <td>29480.52</td>\n",
       "      <td>1</td>\n",
       "    </tr>\n",
       "  </tbody>\n",
       "</table>\n",
       "<p>3214 rows × 5 columns</p>\n",
       "</div>"
      ],
      "text/plain": [
       "      calls  minutes  messages   mb_used  is_ultra\n",
       "0      40.0   311.90      83.0  19915.42         0\n",
       "1      85.0   516.75      56.0  22696.96         0\n",
       "2      77.0   467.66      86.0  21060.45         0\n",
       "3     106.0   745.53      81.0   8437.39         1\n",
       "4      66.0   418.74       1.0  14502.75         0\n",
       "...     ...      ...       ...       ...       ...\n",
       "3209  122.0   910.98      20.0  35124.90         1\n",
       "3210   25.0   190.36       0.0   3275.61         0\n",
       "3211   97.0   634.44      70.0  13974.06         0\n",
       "3212   64.0   462.32      90.0  31239.78         0\n",
       "3213   80.0   566.09       6.0  29480.52         1\n",
       "\n",
       "[3214 rows x 5 columns]"
      ]
     },
     "metadata": {},
     "output_type": "display_data"
    },
    {
     "name": "stdout",
     "output_type": "stream",
     "text": [
      "<class 'pandas.core.frame.DataFrame'>\n",
      "RangeIndex: 3214 entries, 0 to 3213\n",
      "Data columns (total 5 columns):\n",
      " #   Column    Non-Null Count  Dtype  \n",
      "---  ------    --------------  -----  \n",
      " 0   calls     3214 non-null   float64\n",
      " 1   minutes   3214 non-null   float64\n",
      " 2   messages  3214 non-null   float64\n",
      " 3   mb_used   3214 non-null   float64\n",
      " 4   is_ultra  3214 non-null   int64  \n",
      "dtypes: float64(4), int64(1)\n",
      "memory usage: 125.7 KB\n"
     ]
    }
   ],
   "source": [
    "display(data)\n",
    "data.info()"
   ]
  },
  {
   "cell_type": "code",
   "execution_count": 4,
   "id": "ded3f2ee",
   "metadata": {},
   "outputs": [
    {
     "data": {
      "text/plain": [
       "0    2229\n",
       "1     985\n",
       "Name: is_ultra, dtype: int64"
      ]
     },
     "execution_count": 4,
     "metadata": {},
     "output_type": "execute_result"
    }
   ],
   "source": [
    "data['is_ultra'].value_counts()"
   ]
  },
  {
   "cell_type": "markdown",
   "id": "9a6509ec",
   "metadata": {},
   "source": [
    "Видно, что наш датасет уже подготовлен, он не содержит пропусков и неправильных форматов данных. Отметим, что количество пользоваталей тарифа \"Ультра\" более, чем в два раза меньше обычных пользователей.  "
   ]
  },
  {
   "cell_type": "code",
   "execution_count": 5,
   "id": "5e592133",
   "metadata": {},
   "outputs": [],
   "source": [
    "target = data['is_ultra']\n",
    "features = data.drop(['is_ultra'], axis=1)"
   ]
  },
  {
   "cell_type": "code",
   "execution_count": 6,
   "id": "780d8db4",
   "metadata": {},
   "outputs": [],
   "source": [
    "# сначала выделим 20% для тестовой выборки, 80% останется\n",
    "features1, features_test, target1, target_test = train_test_split(\n",
    "features, target, test_size=0.2, random_state=12345, stratify=target)\n",
    "\n",
    "# затем из оставшейся выборки возьмем 33% для валидационной выборки и 67% для обучающей\n",
    "features_train, features_valid, target_train, target_valid = train_test_split(\n",
    "    features1, target1, test_size=0.33, random_state=12345, stratify=target1)"
   ]
  },
  {
   "cell_type": "markdown",
   "id": "24f388f3",
   "metadata": {},
   "source": [
    "<div class=\"alert alert-success\">\n",
    "<font size=\"5\"><b>Комментарий ревьюера</b></font>\n",
    "\n",
    "Успех:\n",
    "\n",
    "- все правильно. random_state использован. \n",
    "\n",
    "\n",
    "<div class=\"alert alert-warning\">\n",
    "\n",
    "\n",
    "\n",
    "Совет: \n",
    "\n",
    "\n",
    "- Обрати внимание на аргумент stratify, он позволит сохранить изначальное распределение таргетов во всех новых датасетах.  Существующий дисбаланс никуда не денется, но в каждом датасете он будет одинаковым. [Почитать](https://pythonru.com/baza-znanij/sklearn-train-test-split) можно тут\n",
    "\n",
    "\n",
    "- После разбиения лучше перестраховаться и использовать .shape, для контроля за корректностью разбиения\n",
    "\n",
    "\n",
    "\n",
    "<div>\n",
    "    \n",
    "<div class = \"alert alert-info\" style=\"border-left: 7px solid blue\">\n",
    "<b>Комментарий студента</b>\n",
    "    \n",
    "Как я понял, этот параметр гарантирует нам, что процентное соотношение элементов классов таргета будет постоянным в выборках?\n",
    "</div>\n",
    "    \n",
    "\n"
   ]
  },
  {
   "cell_type": "markdown",
   "id": "b5c4451c",
   "metadata": {},
   "source": [
    "<div class=\"alert alert-success\">\n",
    "<font size=\"5\"><b>Комментарий ревьюераV2</b></font>\n",
    "\n",
    "\n",
    "\n",
    "Успех 👍:\n",
    "\n",
    "Верно. Ты можешь в этом сам убедиться, если посмотришь на долю нулей и единиц в каждой новой выборке\n",
    "    \n",
    "</div>\n"
   ]
  },
  {
   "cell_type": "markdown",
   "id": "4e6f68ea",
   "metadata": {},
   "source": [
    "### 2) Модель дерева с разными гиперпараметрами.\n",
    "Будем менять параметр `max_depth` в диапазоне от 1 до 10"
   ]
  },
  {
   "cell_type": "markdown",
   "id": "af4b435e",
   "metadata": {},
   "source": [
    "<div class=\"alert alert-danger\">\n",
    "<font size=\"5\"><b>Комментарий ревьюера</b></font>\n",
    "\n",
    "\n",
    "\n",
    "Ошибка ❌:\n",
    "\n",
    "\n",
    "\n",
    "Все импорты поднимаем наверх\n",
    "\n",
    "</div>"
   ]
  },
  {
   "cell_type": "markdown",
   "id": "d18e69b1",
   "metadata": {},
   "source": [
    "<div class = \"alert alert-info\" style=\"border-left: 7px solid blue\">\n",
    "<b>Комментарий студента</b>\n",
    "    \n",
    "Перенес\n",
    "</div>\n"
   ]
  },
  {
   "cell_type": "markdown",
   "id": "e050e222",
   "metadata": {},
   "source": [
    "<div class=\"alert alert-success\">\n",
    "<font size=\"5\"><b>Комментарий ревьюераV2</b></font>\n",
    "\n",
    "\n",
    "\n",
    "Успех 👍:\n",
    "\n",
    "\n",
    "\n",
    "👍\n",
    "\n",
    "\n",
    "\n",
    "\n",
    "</div>\n"
   ]
  },
  {
   "cell_type": "code",
   "execution_count": 7,
   "id": "40307d1a",
   "metadata": {},
   "outputs": [],
   "source": [
    "depths = list(range(1,21))\n",
    "score_valid = []\n",
    "score_train = []\n",
    "\n",
    "for depth in depths: \n",
    "    model = DecisionTreeClassifier(max_depth=depth, random_state=12345)\n",
    "    model.fit(features_train, target_train)\n",
    "    \n",
    "    predictions = model.predict(features_valid)\n",
    "    score_valid.append(accuracy_score(target_valid, predictions))\n",
    "    \n",
    "    predictions = model.predict(features_train)\n",
    "    score_train.append(accuracy_score(target_train, predictions))"
   ]
  },
  {
   "cell_type": "markdown",
   "id": "eb7640a3",
   "metadata": {},
   "source": [
    "<div class=\"alert alert-success\">\n",
    "<font size=\"5\"><b>Комментарий ревьюера</b></font>\n",
    "\n",
    "Успех:\n",
    " \n",
    "Работа выполнена в соответствии с критериями: \n",
    "\n",
    "\n",
    "\n",
    " - модель обучена на обучающем наборе\n",
    " - получена оценка качества на валидационном наборе\n",
    " - перебор гиперпараметров осуществляется в цикле\n",
    "\n",
    "\n",
    "\n",
    "\n",
    "<div class=\"alert alert-warning\">\n",
    "\n",
    "\n",
    "Совет: \n",
    "\n",
    "\n",
    "\n",
    "- tree_plot можно построить, с max_depth равной 3 или 4 (глубже уже будет громоздко) - глянуть как DT сплиты делает, будет понимание как модель принимает решения: какие признаки  использует, на каких значениях делает разбиение вправо - влево \n",
    "\n",
    "\n",
    "\n",
    "\n",
    "</div>\n",
    "\n"
   ]
  },
  {
   "cell_type": "code",
   "execution_count": 8,
   "id": "a69c73d5",
   "metadata": {},
   "outputs": [
    {
     "data": {
      "image/png": "[encoded data removed]",
      "text/plain": [
       "<Figure size 1080x720 with 1 Axes>"
      ]
     },
     "metadata": {
      "needs_background": "light"
     },
     "output_type": "display_data"
    }
   ],
   "source": [
    "fig = plt.figure(figsize = (15,10))\n",
    "ax = fig.add_subplot()\n",
    "\n",
    "ax.plot(depths, score_valid, label='Валидационная выборка')\n",
    "ax.plot(depths, score_train, label='Обучающая выборка')\n",
    "\n",
    "ax.set_xlabel('Количество деревьев')\n",
    "ax.set_ylabel('Точность модели')\n",
    "\n",
    "ax.grid()\n",
    "\n",
    "plt.rc('font', size=15) #controls default text size\n",
    "plt.rc('axes', titlesize=15) #fontsize of the title\n",
    "plt.rc('axes', labelsize=15) #fontsize of the x and y labels\n",
    "plt.rc('xtick', labelsize=15) #fontsize of the x tick labels\n",
    "plt.rc('ytick', labelsize=15) #fontsize of the y tick labels\n",
    "plt.rc('legend', fontsize=15) #fontsize of the legend\n",
    "\n",
    "plt.legend()\n",
    "\n",
    "ax.xaxis.set_major_locator(ticker.MultipleLocator(1))\n"
   ]
  },
  {
   "cell_type": "code",
   "execution_count": 9,
   "id": "db2f0b26",
   "metadata": {},
   "outputs": [
    {
     "name": "stdout",
     "output_type": "stream",
     "text": [
      "Глубина и точность валидационной выборки (лучшая модель): \n",
      "5; 0.7938751472320377\n"
     ]
    }
   ],
   "source": [
    "score_valid = list(zip(list(range(1,21)),score_valid))\n",
    "print('Глубина и точность валидационной выборки (лучшая модель): ')\n",
    "tree_depth = max(score_valid, key= lambda x: x[1])[0]\n",
    "print(*max(score_valid, key= lambda x: x[1]), sep='; ')\n",
    "\n",
    "\n",
    "# score_test = list(zip(list(range(1,11)),score_test))\n",
    "# print('Глубина и точность тестовой выборки (лучшая модель): ')\n",
    "# print(*max(score_test, key= lambda x: x[1]), sep='; ')"
   ]
  },
  {
   "cell_type": "markdown",
   "id": "c4c47e05",
   "metadata": {},
   "source": [
    "На графике точности от глубины дерева можем видеть, что модель достигает своей точности на 5 уровне, а далее начинает переобучаться и дает все больше неправильных ответов. "
   ]
  },
  {
   "cell_type": "markdown",
   "id": "da6dbd29",
   "metadata": {},
   "source": [
    "### 3) Модель случайного леса с разными гиперпараметрами.\n",
    "Будем перебирать количество деревьев леса путем изменения параметра `n_estimators`"
   ]
  },
  {
   "cell_type": "code",
   "execution_count": 10,
   "id": "d3ecf5ac",
   "metadata": {},
   "outputs": [
    {
     "name": "stdout",
     "output_type": "stream",
     "text": [
      "CPU times: user 50.2 s, sys: 166 ms, total: 50.4 s\n",
      "Wall time: 50.4 s\n"
     ]
    },
    {
     "data": {
      "text/plain": [
       "<matplotlib.legend.Legend at 0x7fc57bd09100>"
      ]
     },
     "execution_count": 10,
     "metadata": {},
     "output_type": "execute_result"
    },
    {
     "data": {
      "image/png": "[encoded data removed]",
      "text/plain": [
       "<Figure size 1080x720 with 1 Axes>"
      ]
     },
     "metadata": {
      "needs_background": "light"
     },
     "output_type": "display_data"
    }
   ],
   "source": [
    "%%time\n",
    "estimators = list(range(1,201))\n",
    "\n",
    "score_test = []\n",
    "score_valid = []\n",
    "best_score=0\n",
    "best_est=0\n",
    "for est in estimators:\n",
    "    model = RandomForestClassifier(n_estimators=est, random_state=12345)\n",
    "    model.fit(features_train, target_train)\n",
    "      \n",
    "    predictions = model.predict(features_valid)\n",
    "    score = model.score(features_valid, target_valid)\n",
    "    score_valid.append(score)\n",
    "    if score > best_score: \n",
    "        forest = model\n",
    "        best_score = score \n",
    "        best_est = est\n",
    "#     predictions = model.predict(features_test)\n",
    "#     score_test.append(model.score(features_test, target_test))\n",
    "\n",
    "    \n",
    "\n",
    "fig = plt.figure(figsize = (15,10))\n",
    "ax = fig.add_subplot()\n",
    "ax.plot(estimators, score_valid, label='Валидационная выборка')\n",
    "# ax.plot(estimators, score_test, label='Тестовая выборка')\n",
    "ax.set_xlabel('Количество деревьев')\n",
    "ax.set_ylabel('Точность модели')\n",
    "ax.grid()\n",
    "plt.rc('font', size=15) #controls default text size\n",
    "plt.rc('axes', titlesize=15) #fontsize of the title\n",
    "plt.rc('axes', labelsize=15) #fontsize of the x and y labels\n",
    "plt.rc('xtick', labelsize=15) #fontsize of the x tick labels\n",
    "plt.rc('ytick', labelsize=15) #fontsize of the y tick labels\n",
    "plt.rc('legend', fontsize=15) #fontsize of the legend\n",
    "plt.legend()"
   ]
  },
  {
   "cell_type": "markdown",
   "id": "3b6668e8",
   "metadata": {},
   "source": [
    "\n",
    "<div class=\"alert alert-success\">\n",
    "<font size=\"5\"><b>Комментарий ревьюера</b></font>\n",
    "\n",
    "Успех:\n",
    "\n",
    "\n",
    "Верно. \n",
    "\n",
    "<div class=\"alert alert-warning\">\n",
    "\n",
    "Совет:\n",
    "\n",
    "\n",
    "- Сергей, можно было сделать похитрее, RF одна из лучших моделей в классическом machine-learning, поэтому можно было добавить перебор 2 гиперпараметров в двойном цикле, в результата метрика качества вырастет. \n",
    " \n",
    "\n",
    "- Когда что то долго крутиться, можно использовать  %%time - ставишь на самый вверх ячейки с кодом, время выполнения которого хочешь замерить, может не знаешь.  Быстрее не станет, но все будут видеть стоит ли ждать не отходя от ПК или можно сходить чаек поставить ))  А еще есть tqdm, показывает на каком этапе у нас работа в цикле происходит\n",
    "    \n",
    "   \n",
    "- А еще можно вместо цикла использовать sklearn-ий встроенный функционал GridSearchCV. В случаи использования GridSearch, не нужно будет заранее делать валидационную выборку, лучшую метрику автоматом сохранят в best_score_, а лучшую модель (переобученная уже на полном наборе данных) будет хранить в best_estimator_.  Это тема будущих теоретических занятий, но если есть время можешь сразу попробовать.\n",
    "\n"
   ]
  },
  {
   "cell_type": "code",
   "execution_count": 11,
   "id": "81f02c9f",
   "metadata": {},
   "outputs": [
    {
     "name": "stdout",
     "output_type": "stream",
     "text": [
      "Валидационная выборка: 64 деревьев , точность - 0.808\n"
     ]
    }
   ],
   "source": [
    "# print('Валидационная выборка:', round(max(score_test),3))\n",
    "print('Валидационная выборка:', best_est, 'деревьев', ', точность -',round(best_score, 3))"
   ]
  },
  {
   "cell_type": "markdown",
   "id": "7a86c80b",
   "metadata": {},
   "source": [
    "Для достижения оптимальной точности следует взять 64 дерева. При таком количестве мы получаем точность более 80%, более того, для 60 деревьев наш алгоритм будет работать гораздо быстрее, чем для 200. "
   ]
  },
  {
   "cell_type": "markdown",
   "id": "1aab77e6",
   "metadata": {},
   "source": [
    "#### Проверка лучшей модели случайного леса на тестовой выборке. \n",
    "Обучим нашу модель на тренировочной и валидационной выборках и посмотрим на точность в тестовой выборке"
   ]
  },
  {
   "cell_type": "code",
   "execution_count": 12,
   "id": "a74c10bc",
   "metadata": {},
   "outputs": [],
   "source": [
    "train_features = pd.concat([features_valid, features_train]) \n",
    "train_target = pd.concat([target_valid, target_train])"
   ]
  },
  {
   "cell_type": "code",
   "execution_count": 13,
   "id": "d3542366",
   "metadata": {},
   "outputs": [
    {
     "name": "stdout",
     "output_type": "stream",
     "text": [
      "Точность на тестовой выборке: 0.804\n"
     ]
    }
   ],
   "source": [
    "forest.fit(train_features, train_target)\n",
    "print('Точность на тестовой выборке:', round(forest.score(features_test, target_test), 3))"
   ]
  },
  {
   "cell_type": "markdown",
   "id": "683336d2",
   "metadata": {},
   "source": [
    "Модель случайного леса показала точность 81%, этот показатель выше, чем у дерева решений."
   ]
  },
  {
   "cell_type": "markdown",
   "id": "33cbd295",
   "metadata": {},
   "source": [
    "### 3) Модель логистической регрессии с разными гиперпараметрами."
   ]
  },
  {
   "cell_type": "markdown",
   "id": "e5d64abe",
   "metadata": {},
   "source": [
    "Будем изменять параметр `max_iter` в диапазаоне от 100 до 2000 с шагом 10."
   ]
  },
  {
   "cell_type": "code",
   "execution_count": 14,
   "id": "7f4c40d0",
   "metadata": {},
   "outputs": [],
   "source": [
    "iterations = list(range(90,510,10))\n",
    "lg_test_score = []\n",
    "lg_valid_score = []\n",
    "best_score = 0\n",
    "for iteration in iterations: \n",
    "    model = LogisticRegression(max_iter=iteration, solver='lbfgs', random_state=12345)\n",
    "    model.fit(features_train, target_train)\n",
    "    \n",
    "    score = model.score(features_test, target_test)\n",
    "    lg_valid_score.append(score)\n",
    "    if score > best_score:  \n",
    "        logistic = model"
   ]
  },
  {
   "cell_type": "code",
   "execution_count": 15,
   "id": "d3842efa",
   "metadata": {
    "scrolled": false
   },
   "outputs": [
    {
     "data": {
      "text/plain": [
       "<matplotlib.legend.Legend at 0x7fc5480d55b0>"
      ]
     },
     "execution_count": 15,
     "metadata": {},
     "output_type": "execute_result"
    },
    {
     "data": {
      "image/png": "[encoded data removed]",
      "text/plain": [
       "<Figure size 1080x720 with 1 Axes>"
      ]
     },
     "metadata": {
      "needs_background": "light"
     },
     "output_type": "display_data"
    }
   ],
   "source": [
    "fig = plt.figure(figsize = (15,10))\n",
    "ax = fig.add_subplot()\n",
    "ax.plot(iterations, lg_valid_score, label='Валидационная выборка')\n",
    "# ax.plot(iterations, lg_test_score, label='Тестовая выборка')\n",
    "ax.set_xlabel('Количество деревьев')\n",
    "ax.set_ylabel('Точность модели')\n",
    "ax.grid()\n",
    "plt.rc('font', size=15) #controls default text size\n",
    "plt.rc('axes', titlesize=15) #fontsize of the title\n",
    "plt.rc('axes', labelsize=15) #fontsize of the x and y labels\n",
    "plt.rc('xtick', labelsize=15) #fontsize of the x tick labels\n",
    "plt.rc('ytick', labelsize=15) #fontsize of the y tick labels\n",
    "plt.rc('legend', fontsize=15) #fontsize of the legend\n",
    "plt.legend()"
   ]
  },
  {
   "cell_type": "code",
   "execution_count": 16,
   "id": "731e591a",
   "metadata": {},
   "outputs": [
    {
     "name": "stdout",
     "output_type": "stream",
     "text": [
      "Валидационная выборка: 0.714\n"
     ]
    }
   ],
   "source": [
    "print('Валидационная выборка:', round(max(lg_valid_score),3))"
   ]
  },
  {
   "cell_type": "markdown",
   "id": "8fb05eb1",
   "metadata": {},
   "source": [
    "Модель логистической регрессии показывает одинаковую точность при max_iter >= 90. Точность модели 71,4% - этот показатель ниже, чем у дерева решений и модели случайного леса. "
   ]
  },
  {
   "cell_type": "markdown",
   "id": "7d33cd57",
   "metadata": {},
   "source": [
    "###  Проверка лучшей модели на тестовой выборке.\n",
    "В ходе тестирования на валидационной выборке выяснилось, что модель случайного леса имеет самую высокую точность. Возьмем эту подель для тестовой выборки."
   ]
  },
  {
   "cell_type": "code",
   "execution_count": 17,
   "id": "e50b0508",
   "metadata": {},
   "outputs": [
    {
     "name": "stdout",
     "output_type": "stream",
     "text": [
      "Точность на тестовой выборке: 0.804\n"
     ]
    }
   ],
   "source": [
    "forest.fit(train_features, train_target)\n",
    "print('Точность на тестовой выборке:', round(forest.score(features_test, target_test), 3))"
   ]
  },
  {
   "cell_type": "markdown",
   "id": "63f7fb5a",
   "metadata": {},
   "source": [
    "\n",
    "\n",
    "<div class=\"alert alert-success\">\n",
    "<font size=\"5\"><b>Комментарий ревьюераV3</b></font>\n",
    "\n",
    "Успех:\n",
    "\n",
    "Если студент получил на тесте accuraсy  выше 0,78, это считается отличным результатом. Тобой подбиралась лучшая комбинация не по одному гиперпараметру и вот он результат!\n",
    "\n",
    "\n",
    "\n",
    "\n",
    "\n",
    "\n",
    "</div>"
   ]
  },
  {
   "cell_type": "markdown",
   "id": "3bd4f33e",
   "metadata": {},
   "source": [
    "На тестовой выборке модель показала приблизительно такую же высокую точность, как и на валидационной."
   ]
  },
  {
   "cell_type": "markdown",
   "id": "1ce191f5",
   "metadata": {},
   "source": [
    "\n",
    "<div class=\"alert alert-warning\">\n",
    "<font size=\"5\"><b>Комментарий ревьюера</b></font>\n",
    "    \n",
    "    \n",
    "\n",
    "Совет: \n",
    "\n",
    "Если есть желание можешь ответить на вопросики ))    \n",
    "\n",
    "\n",
    "\n",
    "- Как назвать ситуацию, когда на валидации при увеличении глубины дерева (модель DT), метрика качества стала снижаться? Как по твоему в это же время вела себя эта же метрика на train?\n",
    "\n",
    "\n",
    "- Насколько знаю вы еще под капот моделям не заглядывали, но может знаешь почему обычно RF показывает более высокие результаты из выбранных?\n",
    "\n",
    "\n",
    "- Мы решаем задачу классификации (а еще есть задача регрессии), а в названии модели с помощью которой мы решаем задачу \"классификации\" (Логистическая регрессия) есть слово \"регрессия\".  Нет ли тут парадокса? )\n",
    "    \n",
    "\n",
    "- Почему логистическая регрессия показывать на много более худшие результаты?  \n",
    "\n",
    "\n",
    "</div>\n",
    "\n",
    "\n",
    "\n"
   ]
  },
  {
   "cell_type": "markdown",
   "id": "e07a93e4",
   "metadata": {},
   "source": [
    "## Проверка моделей на вменяемость. "
   ]
  },
  {
   "cell_type": "markdown",
   "id": "c10a0937",
   "metadata": {},
   "source": [
    "### Описание тарифов\n",
    "\n",
    "#### Тариф «Смарт»\n",
    "\n",
    "* Ежемесячная плата: 550 рублей\n",
    "\n",
    "* Включено 500 минут разговора, 50 сообщений и 15 Гб интернет-трафика\n",
    "\n",
    "\n",
    "Стоимость услуг сверх тарифного пакета:\n",
    "* Минута разговора — 3 рубля. Количество использованных минут и мегабайтов «Мегалайн» всегда округляет вверх. Если пользователь проговорил всего 1 секунду, в тарифе засчитывается целая минута.\n",
    "\n",
    "* Сообщение — 3 рубля.\n",
    "\n",
    "* 1 Гб интернет-трафика— 200 рублей.\n",
    "\n",
    "#### Тариф «Ультра»\n",
    "\n",
    "* Ежемесячная плата: 1950 рублей\n",
    "\n",
    "* Включено 3000 минут разговора, 1000 сообщений и 30 Гб интернет-трафика\n",
    "\n",
    "\n",
    "Стоимость услуг сверх тарифного пакета:\n",
    "\n",
    "* Минута разговора — 1 рубль;\n",
    "\n",
    "* Сообщение — 1 рубль;\n",
    "\n",
    "* 1 Гб интернет-трафика: 150 рублей.\n"
   ]
  },
  {
   "cell_type": "markdown",
   "id": "b4766f35",
   "metadata": {},
   "source": [
    "Возьмем данные, где значения столбца is_ultra = 0 и посмотрим, какая точность будет у наших моделей. Предполагается, модели должны вывести списки, где нули встречаются в большей степени."
   ]
  },
  {
   "cell_type": "code",
   "execution_count": 18,
   "id": "25aa1181",
   "metadata": {},
   "outputs": [
    {
     "name": "stdout",
     "output_type": "stream",
     "text": [
      "Точность лучшей модели дерева решений: 0.938\n",
      "Точность лучшей модели случайного леса: 0.984\n",
      "Точность модели логистической регрессии:  0.986\n"
     ]
    }
   ],
   "source": [
    "tree = DecisionTreeClassifier(max_depth=5, random_state=12345)\n",
    "\n",
    "data_train = data[data['is_ultra']==0]\n",
    "check_features = data_train.drop(['is_ultra'], axis=1)\n",
    "check_target = data_train['is_ultra']\n",
    "tree.fit(train_features, train_target)\n",
    "\n",
    "print('Точность лучшей модели дерева решений:', round(tree.score(check_features, check_target), 3))\n",
    "print('Точность лучшей модели случайного леса:',round(forest.score(check_features, check_target), 3))\n",
    "print('Точность модели логистической регрессии: ',round(logistic.score(check_features, check_target), 3))"
   ]
  },
  {
   "cell_type": "markdown",
   "id": "b9ae9570",
   "metadata": {},
   "source": [
    "#### Вменяемость\n",
    "\n",
    "Проверка на самом частом классе is_ultra=0, показала, что модели дают вполне вменяемы результаты. Однако модель дерева решений справляется с тривальными тестами сложнее 93.8% правильных ответов, в отличие от моделей случайного леса и логистической регрессии. \n"
   ]
  },
  {
   "cell_type": "markdown",
   "id": "487b5f8d",
   "metadata": {},
   "source": [
    "\n",
    "\n",
    "<div class=\"alert alert-warning\">\n",
    "<font size=\"5\"><b>Комментарий ревьюера</b></font>\n",
    "\n",
    "Совет:\n",
    "\n",
    "Сергей, бонусное на то и бонусное, но можешь попробовать его решить с моей подсказкой.    \n",
    "\n",
    "Колючевое это помнить  что у нас дисбаланс в таргете (нулей гораздно больше чем единиц) и четко понимать как считается accuracy.\n",
    "В чем смысл проверки модели на адекватность  при дисбалансе? Вот смотри - обучили мы какую то модель, которая на test показывает 90% accuraсy. Шикарная модель скажем мы. А если в датасете у нас в метках таргета единичек 99,9% (допустим тренируем на данных где 1 это \"кирпич упал на голову человеку когда он вышел из дома\"), а нулей 0,1% (\"не упал\")?! Все также утверждаем что наша модель шикарная?! Нет, потому что всегда можно предсказывать что не упадает (единички) и accuracy будет равна 99,9%\n",
    "\n",
    "Вот и тут мы сравниваем нашу обученную модель с примитивным прогнозом самого частого таргета. Какой у нас самый частый класс? Нули. Так посмотри accuracy_score target_test и ряда из одних нулей. Сколько будет?. \n",
    "\n",
    "\n",
    "    \n",
    "    \n",
    "\n",
    "При проверке на адекватность модели, рекомендую ознакомиться с [Dummy Models](https://scikit-learn.org/stable/modules/generated/sklearn.dummy.DummyClassifier.html), это удобная обертка для константных моделей и сделает тоже самое что я описал на словах\n",
    "\n",
    "</div>"
   ]
  },
  {
   "cell_type": "markdown",
   "id": "41f49f2a",
   "metadata": {},
   "source": [
    "# Выводы"
   ]
  },
  {
   "cell_type": "markdown",
   "id": "32a12bce",
   "metadata": {},
   "source": [
    "Было построено три модели с различными гиперпараметрами: дерево решений, случайный лес и логистическая регрессии.\n",
    "\n",
    "* Оптимальным параметром глубины дерева решений является 5. При такой глубине модель выдает наиболее точные ответы. Точность правильных ответов на валидационной выборке 79%\n",
    "\n",
    "\n",
    "* В процессе изменения количеста деревьев в модели случайного лесы было вявлено, что наибольшая точность достигается, при 64 деревьев, дальнешее увеличение числа деревьев не приводит к повышению точности. Стоит отметить, что модель случайного леса работает дольше двух остальных, но точность (порядка 81%) на валидационной и тестовой выборках у нее больше всех остальных моделей. \n",
    "\n",
    "\n",
    "* Для логистической регрессии при максимальном количестве итераций, превышающем 80, точность модели была неизменной - 71% \n",
    "\n",
    "\n",
    "* Все модели неплохо справились с тривиальными тестами, но стоит отметить, что модель дерева решений не так хорошо справилась с тестом, где все элементы принимали значение 0, она решила его только на 94%. "
   ]
  },
  {
   "cell_type": "markdown",
   "id": "edb69545",
   "metadata": {},
   "source": [
    "\n",
    "<div class=\"alert alert-success\">\n",
    "<font size=\"5\"><b>Комментарий ревьюера</b></font>\n",
    "\n",
    "Успех:\n",
    "\n",
    "\n",
    "Здорово что в конце расписаны все этапы работы. Это важно потому что когда проект захочет посмотреть будущий работодатель (или начальник), у него может не быть времени на подробный разбор кода. Вероятнее всего он бегло просмотрит код, а из общего вывода захочет получить представление о всей работе.\n",
    "\n",
    "\n",
    "\n",
    "</div>"
   ]
  },
  {
   "cell_type": "markdown",
   "id": "1e591b6c",
   "metadata": {},
   "source": [
    "\n",
    "<div class=\"alert alert-info\">\n",
    "<font size=\"5\"><b>Комментарий ревьюераV3</b></font>\n",
    "\n",
    "Спасибо за работу!    \n",
    "\n",
    "    \n",
    "\n",
    "Красного нет, вопросов нет, значит все, пора принимать) Надеюсь мои советы и вопросики были полезны и в копилочку знаний упало что то новое, а проект стал лучше, и симпатичней.\n",
    "\n",
    "  \n",
    "Отличная работа Сергей. Желаю успехов в дальнейшей учебе!\n",
    "\n"
   ]
  }
 ],
 "metadata": {
  "ExecuteTimeLog": [
   {
    "duration": 1731,
    "start_time": "2022-11-26T09:22:22.271Z"
   },
   {
    "duration": 116,
    "start_time": "2022-11-26T09:22:24.005Z"
   },
   {
    "duration": 27,
    "start_time": "2022-11-26T09:22:24.123Z"
   },
   {
    "duration": 5,
    "start_time": "2022-11-26T09:22:24.153Z"
   },
   {
    "duration": 23,
    "start_time": "2022-11-26T09:22:24.160Z"
   },
   {
    "duration": 365,
    "start_time": "2022-11-26T09:22:24.185Z"
   },
   {
    "duration": 74,
    "start_time": "2022-11-26T09:22:24.552Z"
   },
   {
    "duration": 240,
    "start_time": "2022-11-26T09:22:24.638Z"
   },
   {
    "duration": 6,
    "start_time": "2022-11-26T09:22:24.879Z"
   },
   {
    "duration": 25,
    "start_time": "2022-11-26T09:22:24.888Z"
   },
   {
    "duration": 86999,
    "start_time": "2022-11-26T09:22:24.915Z"
   },
   {
    "duration": 3,
    "start_time": "2022-11-26T09:23:51.916Z"
   },
   {
    "duration": 5,
    "start_time": "2022-11-26T09:23:51.921Z"
   },
   {
    "duration": 1176,
    "start_time": "2022-11-26T09:23:51.927Z"
   },
   {
    "duration": 207,
    "start_time": "2022-11-26T09:23:53.105Z"
   },
   {
    "duration": 4,
    "start_time": "2022-11-26T09:23:53.313Z"
   },
   {
    "duration": 37,
    "start_time": "2022-11-26T09:23:53.319Z"
   },
   {
    "duration": 56,
    "start_time": "2022-11-26T09:23:53.358Z"
   },
   {
    "duration": 388,
    "start_time": "2022-11-26T09:23:53.415Z"
   },
   {
    "duration": 43,
    "start_time": "2022-11-26T09:23:53.805Z"
   },
   {
    "duration": 25,
    "start_time": "2022-11-26T09:23:53.849Z"
   },
   {
    "duration": 45,
    "start_time": "2022-11-27T08:59:55.439Z"
   },
   {
    "duration": 1519,
    "start_time": "2022-11-27T09:00:14.726Z"
   },
   {
    "duration": 75,
    "start_time": "2022-11-27T09:00:16.247Z"
   },
   {
    "duration": 26,
    "start_time": "2022-11-27T09:00:16.324Z"
   },
   {
    "duration": 6,
    "start_time": "2022-11-27T09:00:16.351Z"
   },
   {
    "duration": 5,
    "start_time": "2022-11-27T09:00:16.359Z"
   },
   {
    "duration": 24,
    "start_time": "2022-11-27T09:00:16.366Z"
   },
   {
    "duration": 150,
    "start_time": "2022-11-27T09:00:16.391Z"
   },
   {
    "duration": 251,
    "start_time": "2022-11-27T09:00:16.543Z"
   },
   {
    "duration": 5,
    "start_time": "2022-11-27T09:00:16.795Z"
   },
   {
    "duration": 13,
    "start_time": "2022-11-27T09:00:16.805Z"
   },
   {
    "duration": 76584,
    "start_time": "2022-11-27T09:00:16.820Z"
   },
   {
    "duration": 4,
    "start_time": "2022-11-27T09:01:33.406Z"
   },
   {
    "duration": 413,
    "start_time": "2022-11-27T09:01:33.412Z"
   },
   {
    "duration": 696,
    "start_time": "2022-11-27T09:01:33.828Z"
   },
   {
    "duration": 192,
    "start_time": "2022-11-27T09:01:34.526Z"
   },
   {
    "duration": 3,
    "start_time": "2022-11-27T09:01:34.720Z"
   },
   {
    "duration": 283,
    "start_time": "2022-11-27T09:01:34.725Z"
   },
   {
    "duration": 459,
    "start_time": "2022-11-27T09:01:35.010Z"
   },
   {
    "duration": 63,
    "start_time": "2022-11-27T09:01:35.471Z"
   },
   {
    "duration": 77,
    "start_time": "2022-11-27T09:03:09.146Z"
   },
   {
    "duration": 294,
    "start_time": "2022-11-27T09:09:09.243Z"
   },
   {
    "duration": 203,
    "start_time": "2022-11-27T09:09:13.530Z"
   },
   {
    "duration": 198,
    "start_time": "2022-11-27T09:09:15.813Z"
   },
   {
    "duration": 185,
    "start_time": "2022-11-27T09:10:04.949Z"
   },
   {
    "duration": 259,
    "start_time": "2022-11-27T09:10:07.864Z"
   },
   {
    "duration": 258,
    "start_time": "2022-11-27T09:10:38.749Z"
   },
   {
    "duration": 1357,
    "start_time": "2022-11-27T09:12:19.931Z"
   },
   {
    "duration": 35,
    "start_time": "2022-11-27T09:12:21.290Z"
   },
   {
    "duration": 25,
    "start_time": "2022-11-27T09:12:21.327Z"
   },
   {
    "duration": 5,
    "start_time": "2022-11-27T09:12:21.354Z"
   },
   {
    "duration": 4,
    "start_time": "2022-11-27T09:12:21.361Z"
   },
   {
    "duration": 11,
    "start_time": "2022-11-27T09:12:21.366Z"
   },
   {
    "duration": 191,
    "start_time": "2022-11-27T09:12:21.378Z"
   },
   {
    "duration": 268,
    "start_time": "2022-11-27T09:12:21.571Z"
   },
   {
    "duration": 5,
    "start_time": "2022-11-27T09:12:21.840Z"
   },
   {
    "duration": 81506,
    "start_time": "2022-11-27T09:12:21.846Z"
   },
   {
    "duration": 4,
    "start_time": "2022-11-27T09:13:43.353Z"
   },
   {
    "duration": 154,
    "start_time": "2022-11-27T09:13:43.359Z"
   },
   {
    "duration": 0,
    "start_time": "2022-11-27T09:13:43.517Z"
   },
   {
    "duration": 0,
    "start_time": "2022-11-27T09:13:43.518Z"
   },
   {
    "duration": 0,
    "start_time": "2022-11-27T09:13:43.518Z"
   },
   {
    "duration": 0,
    "start_time": "2022-11-27T09:13:43.520Z"
   },
   {
    "duration": 0,
    "start_time": "2022-11-27T09:13:43.521Z"
   },
   {
    "duration": 9,
    "start_time": "2022-11-27T09:15:27.539Z"
   },
   {
    "duration": 16,
    "start_time": "2022-11-27T09:15:29.226Z"
   },
   {
    "duration": 6,
    "start_time": "2022-11-27T09:15:55.448Z"
   },
   {
    "duration": 24,
    "start_time": "2022-11-27T09:15:56.843Z"
   },
   {
    "duration": 4,
    "start_time": "2022-11-27T09:16:21.434Z"
   },
   {
    "duration": 316,
    "start_time": "2022-11-27T09:16:24.709Z"
   },
   {
    "duration": 1392,
    "start_time": "2022-11-27T09:16:45.562Z"
   },
   {
    "duration": 30,
    "start_time": "2022-11-27T09:16:46.957Z"
   },
   {
    "duration": 29,
    "start_time": "2022-11-27T09:16:46.989Z"
   },
   {
    "duration": 7,
    "start_time": "2022-11-27T09:16:47.025Z"
   },
   {
    "duration": 8,
    "start_time": "2022-11-27T09:16:47.034Z"
   },
   {
    "duration": 11,
    "start_time": "2022-11-27T09:16:47.044Z"
   },
   {
    "duration": 203,
    "start_time": "2022-11-27T09:16:47.057Z"
   },
   {
    "duration": 331,
    "start_time": "2022-11-27T09:16:47.262Z"
   },
   {
    "duration": 20,
    "start_time": "2022-11-27T09:16:47.595Z"
   },
   {
    "duration": 79539,
    "start_time": "2022-11-27T09:16:47.629Z"
   },
   {
    "duration": 4,
    "start_time": "2022-11-27T09:18:07.169Z"
   },
   {
    "duration": 6,
    "start_time": "2022-11-27T09:18:07.174Z"
   },
   {
    "duration": 370,
    "start_time": "2022-11-27T09:18:07.182Z"
   },
   {
    "duration": 619,
    "start_time": "2022-11-27T09:18:07.554Z"
   },
   {
    "duration": 215,
    "start_time": "2022-11-27T09:18:08.175Z"
   },
   {
    "duration": 4,
    "start_time": "2022-11-27T09:18:08.392Z"
   },
   {
    "duration": 374,
    "start_time": "2022-11-27T09:18:08.404Z"
   },
   {
    "duration": 121,
    "start_time": "2022-11-27T09:18:08.780Z"
   },
   {
    "duration": 18,
    "start_time": "2022-11-27T09:21:00.238Z"
   },
   {
    "duration": 61,
    "start_time": "2022-11-27T09:21:44.662Z"
   },
   {
    "duration": 1475,
    "start_time": "2022-11-27T09:21:57.077Z"
   },
   {
    "duration": 30,
    "start_time": "2022-11-27T09:21:58.554Z"
   },
   {
    "duration": 30,
    "start_time": "2022-11-27T09:21:58.587Z"
   },
   {
    "duration": 19,
    "start_time": "2022-11-27T09:21:58.620Z"
   },
   {
    "duration": 5,
    "start_time": "2022-11-27T09:21:58.641Z"
   },
   {
    "duration": 10,
    "start_time": "2022-11-27T09:21:58.647Z"
   },
   {
    "duration": 192,
    "start_time": "2022-11-27T09:21:58.659Z"
   },
   {
    "duration": 310,
    "start_time": "2022-11-27T09:21:58.853Z"
   },
   {
    "duration": 7,
    "start_time": "2022-11-27T09:21:59.165Z"
   },
   {
    "duration": 81998,
    "start_time": "2022-11-27T09:21:59.174Z"
   },
   {
    "duration": 5,
    "start_time": "2022-11-27T09:23:21.174Z"
   },
   {
    "duration": 27,
    "start_time": "2022-11-27T09:23:21.181Z"
   },
   {
    "duration": 341,
    "start_time": "2022-11-27T09:23:21.213Z"
   },
   {
    "duration": 614,
    "start_time": "2022-11-27T09:23:21.557Z"
   },
   {
    "duration": 256,
    "start_time": "2022-11-27T09:23:22.173Z"
   },
   {
    "duration": 6,
    "start_time": "2022-11-27T09:23:22.431Z"
   },
   {
    "duration": 333,
    "start_time": "2022-11-27T09:23:22.440Z"
   },
   {
    "duration": 55,
    "start_time": "2022-11-27T09:23:22.775Z"
   }
  ],
  "kernelspec": {
   "display_name": "Python 3 (ipykernel)",
   "language": "python",
   "name": "python3"
  },
  "language_info": {
   "codemirror_mode": {
    "name": "ipython",
    "version": 3
   },
   "file_extension": ".py",
   "mimetype": "text/x-python",
   "name": "python",
   "nbconvert_exporter": "python",
   "pygments_lexer": "ipython3",
   "version": "3.9.7"
  },
  "toc": {
   "base_numbering": 1,
   "nav_menu": {},
   "number_sections": true,
   "sideBar": true,
   "skip_h1_title": true,
   "title_cell": "Table of Contents",
   "title_sidebar": "Contents",
   "toc_cell": false,
   "toc_position": {},
   "toc_section_display": true,
   "toc_window_display": false
  }
 },
 "nbformat": 4,
 "nbformat_minor": 5
}
