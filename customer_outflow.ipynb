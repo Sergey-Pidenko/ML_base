{
 "cells": [
  {
   "cell_type": "markdown",
   "id": "887077b3",
   "metadata": {},
   "source": [
    "<div style=\"padding: 30px 25px; border: 2px #6495ed solid\">\n",
    "    \n",
    "<b>Привет, Сергей!</b>\n",
    "\n",
    "Меня зовут Алексей Косенко, и я буду проверять твой проект.\n",
    "    \n",
    "Предлагаю общаться на «<b>ты</b>», но если это неудобно — обязательно сообщи об этом.\n",
    "    \n",
    "Ниже ты увидишь мои комментарии, выделенные разным цветом:\n",
    "    \n",
    "<div class=\"alert alert-success\">\n",
    "<h2>Комментарий ревьюера<a class=\"tocSkip\"></a></h2>\n",
    "\n",
    "<b>Отлично!</b> ✔️: все ок, продолжай в том же духе :)\n",
    "\n",
    "</div>\n",
    "<div class=\"alert alert-warning\">\n",
    "<h2>Комментарий ревьюера<a class=\"tocSkip\"></a></h2>\n",
    "    \n",
    "<b>Есть совет</b> ⚠️: так выделены некритичные замечания или советы, которые смогут улучшить твой проект.\n",
    "\n",
    "</div>\n",
    "<div class=\"alert alert-danger\">\n",
    "<h2>Комментарий ревьюера<a class=\"tocSkip\"></a></h2>\n",
    "\n",
    "<b>Нужно доработать</b> ❌: так выделены важные замечания — без их исправления проект не может быть принят.\n",
    "    \n",
    "</div>\n",
    "\n",
    "Будет здорово, если ты будешь участвовать в диалоге, а свои вопросы, комментарии и изменения в проекте тоже будешь выделять, например, вот так:\n",
    "    \n",
    "<div class=\"alert alert-info\">\n",
    "    <b>Комментарий студента:</b> твой комментарий\n",
    "</div>\n",
    "    \n",
    "Пожалуйста, не перемещай и не удаляй мои комментарии, это усложнит повторную проверку.\n",
    "    \n",
    "</div>"
   ]
  },
  {
   "cell_type": "markdown",
   "id": "e4164f07",
   "metadata": {},
   "source": [
    "<div style=\"padding: 30px 25px; border: 2px #6495ed solid\">\n",
    "    \n",
    "<b>Еще раз привет!</b>\n",
    "\n",
    "Спасибо, что доделал работу, оформление комментариев остается тем же, только обозначим номер итерации: v2\n",
    "    \n",
    "</div>"
   ]
  },
  {
   "cell_type": "markdown",
   "id": "78c96ae1",
   "metadata": {},
   "source": [
    "# Описание проекта\n",
    "\n",
    "Из «Бета-Банка» стали уходить клиенты. Каждый месяц. Немного, но заметно. Банковские маркетологи посчитали: сохранять текущих клиентов дешевле, чем привлекать новых.\n",
    "\n",
    "Нужно спрогнозировать, уйдёт клиент из банка в ближайшее время или нет. Вам предоставлены исторические данные о поведении клиентов и расторжении договоров с банком.\n",
    "\n",
    "Постройте модель с предельно большим значением F1-меры. Чтобы сдать проект успешно, нужно довести метрику до 0.59. Проверьте F1-меру на тестовой выборке самостоятельно.\n",
    "\n",
    "Дополнительно измеряйте AUC-ROC, сравнивайте её значение с F1-мерой.\n",
    "\n",
    "### Инструкция по выполнению проекта\n",
    "\n",
    "* Загрузите и подготовьте данные. Поясните порядок действий.\n",
    "\n",
    "* Исследуйте баланс классов, обучите модель без учёта дисбаланса. Кратко опишите выводы.\n",
    "\n",
    "* Улучшите качество модели, учитывая дисбаланс классов. Обучите разные модели и найдите лучшую. Кратко опишите выводы.\n",
    "\n",
    "* Проведите финальное тестирование.\n",
    "\n",
    "### Описание данных\n",
    "Данные находятся в файле /datasets/Churn.csv (англ. «отток клиентов»)\n",
    "\n",
    "#### Признаки\n",
    "* RowNumber — индекс строки в данных\n",
    "* CustomerId — уникальный идентификатор клиента\n",
    "* Surname — фамилия\n",
    "* CreditScore — кредитный рейтинг\n",
    "* Geography — страна проживания\n",
    "* Gender — пол\n",
    "* Age — возраст\n",
    "* Tenure — сколько лет человек является клиентом банка\n",
    "* Balance — баланс на счёте\n",
    "* NumOfProducts — количество продуктов банка, используемых клиентом\n",
    "* HasCrCard — наличие кредитной карты\n",
    "* IsActiveMember — активность клиента\n",
    "* EstimatedSalary — предполагаемая зарплата\n",
    "\n",
    "#### Целевой признак\n",
    "* Exited — факт ухода клиента"
   ]
  },
  {
   "cell_type": "markdown",
   "id": "f025958d",
   "metadata": {},
   "source": [
    "<div class=\"alert alert-success\">\n",
    "<h2>Комментарий ревьюера<a class=\"tocSkip\"></a></h2>\n",
    "    \n",
    "**Отлично!** ✔️: молодец, что оформляешь описание проекта!</div>"
   ]
  },
  {
   "cell_type": "code",
   "execution_count": 1,
   "id": "6a4b11c7",
   "metadata": {},
   "outputs": [],
   "source": [
    "import pandas as pd\n",
    "import numpy as np\n",
    "import matplotlib.pyplot as plt\n",
    "\n",
    "from sklearn.model_selection import train_test_split\n",
    "from sklearn.preprocessing import StandardScaler\n",
    "from sklearn.utils import shuffle\n",
    "\n",
    "from sklearn.linear_model import LogisticRegression \n",
    "from sklearn.ensemble import RandomForestClassifier\n",
    "\n",
    "from sklearn.metrics import f1_score\n",
    "from sklearn.metrics import roc_auc_score\n",
    "from sklearn.metrics import roc_curve"
   ]
  },
  {
   "cell_type": "markdown",
   "id": "68a7b712",
   "metadata": {},
   "source": [
    "<div class=\"alert alert-success\">\n",
    "<h2>Комментарий ревьюера<a class=\"tocSkip\"></a></h2>\n",
    "    \n",
    "**Отлично!** ✔️: все импорты в одном месте, удобно :)</div>"
   ]
  },
  {
   "cell_type": "code",
   "execution_count": 2,
   "id": "68b24ef2",
   "metadata": {},
   "outputs": [],
   "source": [
    "try: \n",
    "    data = pd.read_csv('churn.csv')\n",
    "except: \n",
    "    data = pd.read_csv('/datasets/Churn.csv')\n",
    "rnd = 12345"
   ]
  },
  {
   "cell_type": "markdown",
   "id": "b0b4a5ae",
   "metadata": {},
   "source": [
    "Выполним предобработку данных"
   ]
  },
  {
   "cell_type": "code",
   "execution_count": 3,
   "id": "b95e80ba",
   "metadata": {},
   "outputs": [
    {
     "data": {
      "text/html": [
       "<div>\n",
       "<style scoped>\n",
       "    .dataframe tbody tr th:only-of-type {\n",
       "        vertical-align: middle;\n",
       "    }\n",
       "\n",
       "    .dataframe tbody tr th {\n",
       "        vertical-align: top;\n",
       "    }\n",
       "\n",
       "    .dataframe thead th {\n",
       "        text-align: right;\n",
       "    }\n",
       "</style>\n",
       "<table border=\"1\" class=\"dataframe\">\n",
       "  <thead>\n",
       "    <tr style=\"text-align: right;\">\n",
       "      <th></th>\n",
       "      <th>RowNumber</th>\n",
       "      <th>CustomerId</th>\n",
       "      <th>Surname</th>\n",
       "      <th>CreditScore</th>\n",
       "      <th>Geography</th>\n",
       "      <th>Gender</th>\n",
       "      <th>Age</th>\n",
       "      <th>Tenure</th>\n",
       "      <th>Balance</th>\n",
       "      <th>NumOfProducts</th>\n",
       "      <th>HasCrCard</th>\n",
       "      <th>IsActiveMember</th>\n",
       "      <th>EstimatedSalary</th>\n",
       "      <th>Exited</th>\n",
       "    </tr>\n",
       "  </thead>\n",
       "  <tbody>\n",
       "    <tr>\n",
       "      <th>0</th>\n",
       "      <td>1</td>\n",
       "      <td>15634602</td>\n",
       "      <td>Hargrave</td>\n",
       "      <td>619</td>\n",
       "      <td>France</td>\n",
       "      <td>Female</td>\n",
       "      <td>42</td>\n",
       "      <td>2.0</td>\n",
       "      <td>0.00</td>\n",
       "      <td>1</td>\n",
       "      <td>1</td>\n",
       "      <td>1</td>\n",
       "      <td>101348.88</td>\n",
       "      <td>1</td>\n",
       "    </tr>\n",
       "    <tr>\n",
       "      <th>1</th>\n",
       "      <td>2</td>\n",
       "      <td>15647311</td>\n",
       "      <td>Hill</td>\n",
       "      <td>608</td>\n",
       "      <td>Spain</td>\n",
       "      <td>Female</td>\n",
       "      <td>41</td>\n",
       "      <td>1.0</td>\n",
       "      <td>83807.86</td>\n",
       "      <td>1</td>\n",
       "      <td>0</td>\n",
       "      <td>1</td>\n",
       "      <td>112542.58</td>\n",
       "      <td>0</td>\n",
       "    </tr>\n",
       "    <tr>\n",
       "      <th>2</th>\n",
       "      <td>3</td>\n",
       "      <td>15619304</td>\n",
       "      <td>Onio</td>\n",
       "      <td>502</td>\n",
       "      <td>France</td>\n",
       "      <td>Female</td>\n",
       "      <td>42</td>\n",
       "      <td>8.0</td>\n",
       "      <td>159660.80</td>\n",
       "      <td>3</td>\n",
       "      <td>1</td>\n",
       "      <td>0</td>\n",
       "      <td>113931.57</td>\n",
       "      <td>1</td>\n",
       "    </tr>\n",
       "    <tr>\n",
       "      <th>3</th>\n",
       "      <td>4</td>\n",
       "      <td>15701354</td>\n",
       "      <td>Boni</td>\n",
       "      <td>699</td>\n",
       "      <td>France</td>\n",
       "      <td>Female</td>\n",
       "      <td>39</td>\n",
       "      <td>1.0</td>\n",
       "      <td>0.00</td>\n",
       "      <td>2</td>\n",
       "      <td>0</td>\n",
       "      <td>0</td>\n",
       "      <td>93826.63</td>\n",
       "      <td>0</td>\n",
       "    </tr>\n",
       "    <tr>\n",
       "      <th>4</th>\n",
       "      <td>5</td>\n",
       "      <td>15737888</td>\n",
       "      <td>Mitchell</td>\n",
       "      <td>850</td>\n",
       "      <td>Spain</td>\n",
       "      <td>Female</td>\n",
       "      <td>43</td>\n",
       "      <td>2.0</td>\n",
       "      <td>125510.82</td>\n",
       "      <td>1</td>\n",
       "      <td>1</td>\n",
       "      <td>1</td>\n",
       "      <td>79084.10</td>\n",
       "      <td>0</td>\n",
       "    </tr>\n",
       "    <tr>\n",
       "      <th>...</th>\n",
       "      <td>...</td>\n",
       "      <td>...</td>\n",
       "      <td>...</td>\n",
       "      <td>...</td>\n",
       "      <td>...</td>\n",
       "      <td>...</td>\n",
       "      <td>...</td>\n",
       "      <td>...</td>\n",
       "      <td>...</td>\n",
       "      <td>...</td>\n",
       "      <td>...</td>\n",
       "      <td>...</td>\n",
       "      <td>...</td>\n",
       "      <td>...</td>\n",
       "    </tr>\n",
       "    <tr>\n",
       "      <th>9995</th>\n",
       "      <td>9996</td>\n",
       "      <td>15606229</td>\n",
       "      <td>Obijiaku</td>\n",
       "      <td>771</td>\n",
       "      <td>France</td>\n",
       "      <td>Male</td>\n",
       "      <td>39</td>\n",
       "      <td>5.0</td>\n",
       "      <td>0.00</td>\n",
       "      <td>2</td>\n",
       "      <td>1</td>\n",
       "      <td>0</td>\n",
       "      <td>96270.64</td>\n",
       "      <td>0</td>\n",
       "    </tr>\n",
       "    <tr>\n",
       "      <th>9996</th>\n",
       "      <td>9997</td>\n",
       "      <td>15569892</td>\n",
       "      <td>Johnstone</td>\n",
       "      <td>516</td>\n",
       "      <td>France</td>\n",
       "      <td>Male</td>\n",
       "      <td>35</td>\n",
       "      <td>10.0</td>\n",
       "      <td>57369.61</td>\n",
       "      <td>1</td>\n",
       "      <td>1</td>\n",
       "      <td>1</td>\n",
       "      <td>101699.77</td>\n",
       "      <td>0</td>\n",
       "    </tr>\n",
       "    <tr>\n",
       "      <th>9997</th>\n",
       "      <td>9998</td>\n",
       "      <td>15584532</td>\n",
       "      <td>Liu</td>\n",
       "      <td>709</td>\n",
       "      <td>France</td>\n",
       "      <td>Female</td>\n",
       "      <td>36</td>\n",
       "      <td>7.0</td>\n",
       "      <td>0.00</td>\n",
       "      <td>1</td>\n",
       "      <td>0</td>\n",
       "      <td>1</td>\n",
       "      <td>42085.58</td>\n",
       "      <td>1</td>\n",
       "    </tr>\n",
       "    <tr>\n",
       "      <th>9998</th>\n",
       "      <td>9999</td>\n",
       "      <td>15682355</td>\n",
       "      <td>Sabbatini</td>\n",
       "      <td>772</td>\n",
       "      <td>Germany</td>\n",
       "      <td>Male</td>\n",
       "      <td>42</td>\n",
       "      <td>3.0</td>\n",
       "      <td>75075.31</td>\n",
       "      <td>2</td>\n",
       "      <td>1</td>\n",
       "      <td>0</td>\n",
       "      <td>92888.52</td>\n",
       "      <td>1</td>\n",
       "    </tr>\n",
       "    <tr>\n",
       "      <th>9999</th>\n",
       "      <td>10000</td>\n",
       "      <td>15628319</td>\n",
       "      <td>Walker</td>\n",
       "      <td>792</td>\n",
       "      <td>France</td>\n",
       "      <td>Female</td>\n",
       "      <td>28</td>\n",
       "      <td>NaN</td>\n",
       "      <td>130142.79</td>\n",
       "      <td>1</td>\n",
       "      <td>1</td>\n",
       "      <td>0</td>\n",
       "      <td>38190.78</td>\n",
       "      <td>0</td>\n",
       "    </tr>\n",
       "  </tbody>\n",
       "</table>\n",
       "<p>10000 rows × 14 columns</p>\n",
       "</div>"
      ],
      "text/plain": [
       "      RowNumber  CustomerId    Surname  CreditScore Geography  Gender  Age  \\\n",
       "0             1    15634602   Hargrave          619    France  Female   42   \n",
       "1             2    15647311       Hill          608     Spain  Female   41   \n",
       "2             3    15619304       Onio          502    France  Female   42   \n",
       "3             4    15701354       Boni          699    France  Female   39   \n",
       "4             5    15737888   Mitchell          850     Spain  Female   43   \n",
       "...         ...         ...        ...          ...       ...     ...  ...   \n",
       "9995       9996    15606229   Obijiaku          771    France    Male   39   \n",
       "9996       9997    15569892  Johnstone          516    France    Male   35   \n",
       "9997       9998    15584532        Liu          709    France  Female   36   \n",
       "9998       9999    15682355  Sabbatini          772   Germany    Male   42   \n",
       "9999      10000    15628319     Walker          792    France  Female   28   \n",
       "\n",
       "      Tenure    Balance  NumOfProducts  HasCrCard  IsActiveMember  \\\n",
       "0        2.0       0.00              1          1               1   \n",
       "1        1.0   83807.86              1          0               1   \n",
       "2        8.0  159660.80              3          1               0   \n",
       "3        1.0       0.00              2          0               0   \n",
       "4        2.0  125510.82              1          1               1   \n",
       "...      ...        ...            ...        ...             ...   \n",
       "9995     5.0       0.00              2          1               0   \n",
       "9996    10.0   57369.61              1          1               1   \n",
       "9997     7.0       0.00              1          0               1   \n",
       "9998     3.0   75075.31              2          1               0   \n",
       "9999     NaN  130142.79              1          1               0   \n",
       "\n",
       "      EstimatedSalary  Exited  \n",
       "0           101348.88       1  \n",
       "1           112542.58       0  \n",
       "2           113931.57       1  \n",
       "3            93826.63       0  \n",
       "4            79084.10       0  \n",
       "...               ...     ...  \n",
       "9995         96270.64       0  \n",
       "9996        101699.77       0  \n",
       "9997         42085.58       1  \n",
       "9998         92888.52       1  \n",
       "9999         38190.78       0  \n",
       "\n",
       "[10000 rows x 14 columns]"
      ]
     },
     "execution_count": 3,
     "metadata": {},
     "output_type": "execute_result"
    }
   ],
   "source": [
    "RND = 12345\n",
    "data "
   ]
  },
  {
   "cell_type": "code",
   "execution_count": 4,
   "id": "da18b901",
   "metadata": {},
   "outputs": [
    {
     "name": "stdout",
     "output_type": "stream",
     "text": [
      "<class 'pandas.core.frame.DataFrame'>\n",
      "RangeIndex: 10000 entries, 0 to 9999\n",
      "Data columns (total 14 columns):\n",
      " #   Column           Non-Null Count  Dtype  \n",
      "---  ------           --------------  -----  \n",
      " 0   RowNumber        10000 non-null  int64  \n",
      " 1   CustomerId       10000 non-null  int64  \n",
      " 2   Surname          10000 non-null  object \n",
      " 3   CreditScore      10000 non-null  int64  \n",
      " 4   Geography        10000 non-null  object \n",
      " 5   Gender           10000 non-null  object \n",
      " 6   Age              10000 non-null  int64  \n",
      " 7   Tenure           9091 non-null   float64\n",
      " 8   Balance          10000 non-null  float64\n",
      " 9   NumOfProducts    10000 non-null  int64  \n",
      " 10  HasCrCard        10000 non-null  int64  \n",
      " 11  IsActiveMember   10000 non-null  int64  \n",
      " 12  EstimatedSalary  10000 non-null  float64\n",
      " 13  Exited           10000 non-null  int64  \n",
      "dtypes: float64(3), int64(8), object(3)\n",
      "memory usage: 1.1+ MB\n"
     ]
    }
   ],
   "source": [
    "data.info()"
   ]
  },
  {
   "cell_type": "code",
   "execution_count": 5,
   "id": "cd898b27",
   "metadata": {},
   "outputs": [
    {
     "data": {
      "text/plain": [
       "RowNumber            0\n",
       "CustomerId           0\n",
       "Surname              0\n",
       "CreditScore          0\n",
       "Geography            0\n",
       "Gender               0\n",
       "Age                  0\n",
       "Tenure             909\n",
       "Balance              0\n",
       "NumOfProducts        0\n",
       "HasCrCard            0\n",
       "IsActiveMember       0\n",
       "EstimatedSalary      0\n",
       "Exited               0\n",
       "dtype: int64"
      ]
     },
     "execution_count": 5,
     "metadata": {},
     "output_type": "execute_result"
    }
   ],
   "source": [
    "# пропуски \n",
    "data.isna().sum()"
   ]
  },
  {
   "cell_type": "code",
   "execution_count": 6,
   "id": "b754b9f9",
   "metadata": {},
   "outputs": [
    {
     "data": {
      "text/plain": [
       "0"
      ]
     },
     "execution_count": 6,
     "metadata": {},
     "output_type": "execute_result"
    }
   ],
   "source": [
    "data.duplicated().sum()"
   ]
  },
  {
   "cell_type": "code",
   "execution_count": 7,
   "id": "f8794f0c",
   "metadata": {},
   "outputs": [],
   "source": [
    "data.columns = data.columns.str.lower()\n",
    "data.columns = ['row_number', 'customer_id', 'surname', 'credit_score', 'geography',\n",
    "       'gender', 'age', 'tenure', 'balance', 'num_of_products', 'has_cr_card',\n",
    "       'is_active_member', 'estimated_salary', 'exited']"
   ]
  },
  {
   "cell_type": "code",
   "execution_count": 8,
   "id": "2022fb7c",
   "metadata": {},
   "outputs": [
    {
     "data": {
      "text/plain": [
       "0    7963\n",
       "1    2037\n",
       "Name: exited, dtype: int64"
      ]
     },
     "execution_count": 8,
     "metadata": {},
     "output_type": "execute_result"
    }
   ],
   "source": [
    "data.exited.value_counts()"
   ]
  },
  {
   "cell_type": "code",
   "execution_count": 9,
   "id": "7e86fbc8",
   "metadata": {},
   "outputs": [
    {
     "data": {
      "text/plain": [
       "1    5151\n",
       "0    4849\n",
       "Name: is_active_member, dtype: int64"
      ]
     },
     "execution_count": 9,
     "metadata": {},
     "output_type": "execute_result"
    }
   ],
   "source": [
    "data.is_active_member.value_counts()"
   ]
  },
  {
   "cell_type": "markdown",
   "id": "99d5ece5",
   "metadata": {},
   "source": [
    "Типы данных соответствуют своим столбцам. Названия столбцов были приведены к нижнему регистру с нижним подчеркиванием. Сразу можно заметить, что присутствует дисбаланс классов. Кол-во оставшихся / кол_во ушедших ~ 80% / 20%. Еще есть пропуски в колонке Tenure (9%), нужно будет заполнить их медианными значениями, чтобы модель работала. "
   ]
  },
  {
   "cell_type": "markdown",
   "id": "09c22358",
   "metadata": {},
   "source": [
    "<div class=\"alert alert-success\">\n",
    "<h2>Комментарий ревьюера<a class=\"tocSkip\"></a></h2>\n",
    "    \n",
    "**Отлично!** ✔️: 👍</div>"
   ]
  },
  {
   "cell_type": "markdown",
   "id": "80a7d9b9",
   "metadata": {},
   "source": [
    "* ### Разделим выборки на обучающую, валидационную и тестовую в отношении 60% / 20% / 20%. Также разделим наши данные на features и target"
   ]
  },
  {
   "cell_type": "code",
   "execution_count": 10,
   "id": "d1f010c4",
   "metadata": {},
   "outputs": [],
   "source": [
    "target = data.exited\n",
    "features = data.drop('exited', axis=1)\n",
    "\n",
    "features1, features_test, target1, target_test = train_test_split(\n",
    "    features, target, test_size=0.2, stratify=target, random_state=RND)\n",
    "\n",
    "features_train, features_valid, target_train, target_valid = train_test_split(\n",
    "    features1, target1, test_size=0.25, stratify=target1, random_state=RND)\n",
    "\n"
   ]
  },
  {
   "cell_type": "markdown",
   "id": "aeb42ac5",
   "metadata": {},
   "source": [
    "<div class=\"alert alert-success\">\n",
    "<h2>Комментарий ревьюера<a class=\"tocSkip\"></a></h2>\n",
    "    \n",
    "**Отлично!** ✔️: круто, что знаешь про stratify!</div>"
   ]
  },
  {
   "cell_type": "code",
   "execution_count": 11,
   "id": "5cff96a7",
   "metadata": {},
   "outputs": [
    {
     "data": {
      "text/plain": [
       "2000"
      ]
     },
     "execution_count": 11,
     "metadata": {},
     "output_type": "execute_result"
    }
   ],
   "source": [
    "# features_valid.info()\n",
    "len(target_valid)"
   ]
  },
  {
   "cell_type": "markdown",
   "id": "d8336cba",
   "metadata": {},
   "source": [
    "## Обработка признаков\n",
    "* В нашем датасете есть столбцы, которые никак не влияют на результат: row_number, customer_id, surname, их не нужно включать в обработку. \n",
    "\n",
    "\n",
    "* Столбцы с численными значениями: credit_score, age, tenure, balance, num_of_products, estimated_salary. Эти значения нужно масштабировать. \n",
    "\n",
    "\n",
    "* Столбцы с классифицирующими значениями: geography, gender, has_cr_card, is_active_member. Причем столбцы geography, gender нужно преобразовать методом OHE. "
   ]
  },
  {
   "cell_type": "markdown",
   "id": "8f631425",
   "metadata": {},
   "source": [
    "###### Функция для преобразования признаков в обучающей выборке (масштабирует, добавляет фиктивные переменные, перемешивает)"
   ]
  },
  {
   "cell_type": "code",
   "execution_count": 12,
   "id": "d949b654",
   "metadata": {},
   "outputs": [],
   "source": [
    "def transform_train(features, target): \n",
    "    numeric = ['credit_score', 'age', 'tenure', 'balance', 'num_of_products', 'estimated_salary']\n",
    "    classifier = ['geography', 'gender', 'has_cr_card', 'is_active_member']\n",
    "    features['tenure']= features['tenure'].fillna(features['tenure'].median())\n",
    "    \n",
    "    df_numeric = features[numeric].copy()\n",
    "    df_classifier = features[classifier].copy()\n",
    "\n",
    "    scaler = StandardScaler()\n",
    "    scaler.fit(df_numeric)\n",
    "    df_numeric = pd.DataFrame(scaler.transform(df_numeric))\n",
    "    df_numeric.columns = numeric  \n",
    "    \n",
    "    df_classifier = pd.get_dummies(df_classifier, columns=['geography', 'gender'], drop_first=True).reset_index(drop=True)\n",
    "    \n",
    "    new_features = df_classifier.join(df_numeric)\n",
    "    target = target.reset_index(drop=True)\n",
    "    \n",
    "    new_features, new_target = shuffle(new_features, target, random_state=RND)\n",
    "    return new_features, new_target, scaler\n"
   ]
  },
  {
   "cell_type": "markdown",
   "id": "16f918a4",
   "metadata": {},
   "source": [
    "###### Функция для преобразования признаков в тестовой или валидационной выборке (масштабирует, добавляет фиктивные переменные, перемешивает)"
   ]
  },
  {
   "cell_type": "code",
   "execution_count": 13,
   "id": "ae27369e",
   "metadata": {},
   "outputs": [],
   "source": [
    "def transform_test(features, target, scaler):\n",
    "    numeric = ['credit_score', 'age', 'tenure', 'balance', 'num_of_products', 'estimated_salary']\n",
    "    classifier = ['geography', 'gender', 'has_cr_card', 'is_active_member']\n",
    "    features['tenure']= features['tenure'].fillna(features['tenure'].median())\n",
    "    df_numeric = features[numeric].copy()\n",
    "    df_classifier = features[classifier].copy()\n",
    "\n",
    "    df_numeric = pd.DataFrame(scaler.transform(df_numeric))\n",
    "    df_numeric.columns = numeric  \n",
    "    \n",
    "    df_classifier = pd.get_dummies(df_classifier, columns=['geography', 'gender'], drop_first=True).reset_index(drop=True)\n",
    "    \n",
    "    new_features = df_classifier.join(df_numeric)\n",
    "    target = target.reset_index(drop=True)\n",
    "    \n",
    "    new_features, new_target = shuffle(new_features, target, random_state=RND)\n",
    "    return new_features, new_target"
   ]
  },
  {
   "cell_type": "markdown",
   "id": "93d4db21",
   "metadata": {},
   "source": [
    "<div class=\"alert alert-warning\">\n",
    "<h2>Комментарий ревьюера<a class=\"tocSkip\"></a></h2>\n",
    "    \n",
    "**Есть совет** ⚠️: окей, OHE в этом случае подходит, но правильнее обучать кодировщик только на обучающей выборке, а трансформировать уже все, аналогично масштабированию, чтобы избежать утечки данных. Тогда вместо get_dummies можно использовать <a href=\"https://scikit-learn.org/stable/modules/generated/sklearn.preprocessing.OneHotEncoder.html\" target=\"blank_\">OneHotEncoder</a>, подробнее про различия можно почитать <a href=\"https://albertum.medium.com/preprocessing-onehotencoder-vs-pandas-get-dummies-3de1f3d77dcc\" target=\"blank_\">здесь</a>\n",
    "\n",
    "Обрати внимание, что в следующих проектах это будет считаться критичной ошибкой</div>"
   ]
  },
  {
   "cell_type": "markdown",
   "id": "e340166a",
   "metadata": {},
   "source": [
    "# Учет баланса классов"
   ]
  },
  {
   "cell_type": "code",
   "execution_count": 14,
   "id": "a682b77f",
   "metadata": {},
   "outputs": [
    {
     "name": "stderr",
     "output_type": "stream",
     "text": [
      "/var/folders/yt/cv88rcqd7l5fcmjbgdqfg_6c0000gn/T/ipykernel_56068/3952860477.py:4: SettingWithCopyWarning: \n",
      "A value is trying to be set on a copy of a slice from a DataFrame.\n",
      "Try using .loc[row_indexer,col_indexer] = value instead\n",
      "\n",
      "See the caveats in the documentation: https://pandas.pydata.org/pandas-docs/stable/user_guide/indexing.html#returning-a-view-versus-a-copy\n",
      "  features['tenure']= features['tenure'].fillna(features['tenure'].median())\n",
      "/var/folders/yt/cv88rcqd7l5fcmjbgdqfg_6c0000gn/T/ipykernel_56068/364520498.py:4: SettingWithCopyWarning: \n",
      "A value is trying to be set on a copy of a slice from a DataFrame.\n",
      "Try using .loc[row_indexer,col_indexer] = value instead\n",
      "\n",
      "See the caveats in the documentation: https://pandas.pydata.org/pandas-docs/stable/user_guide/indexing.html#returning-a-view-versus-a-copy\n",
      "  features['tenure']= features['tenure'].fillna(features['tenure'].median())\n",
      "/var/folders/yt/cv88rcqd7l5fcmjbgdqfg_6c0000gn/T/ipykernel_56068/364520498.py:4: SettingWithCopyWarning: \n",
      "A value is trying to be set on a copy of a slice from a DataFrame.\n",
      "Try using .loc[row_indexer,col_indexer] = value instead\n",
      "\n",
      "See the caveats in the documentation: https://pandas.pydata.org/pandas-docs/stable/user_guide/indexing.html#returning-a-view-versus-a-copy\n",
      "  features['tenure']= features['tenure'].fillna(features['tenure'].median())\n"
     ]
    }
   ],
   "source": [
    "x_train, y_train, scaler = transform_train(features_train, target_train)\n",
    "x_valid, y_valid = transform_test(features_valid, target_valid, scaler)\n",
    "x_test, y_test = transform_test(features_test, target_test, scaler)"
   ]
  },
  {
   "cell_type": "code",
   "execution_count": 15,
   "id": "d9765e70",
   "metadata": {},
   "outputs": [
    {
     "name": "stdout",
     "output_type": "stream",
     "text": [
      "6000 2000\n",
      "6000 2000\n"
     ]
    }
   ],
   "source": [
    "print(len(x_train), len(x_valid))\n",
    "print(len(y_train), len(y_valid))"
   ]
  },
  {
   "cell_type": "code",
   "execution_count": 16,
   "id": "7953ffa5",
   "metadata": {},
   "outputs": [
    {
     "name": "stdout",
     "output_type": "stream",
     "text": [
      "f1_score для несбалансированной модели: 0.321\n",
      "roc_auc_score для несбалансированной модели: 0.788\n"
     ]
    }
   ],
   "source": [
    "model = LogisticRegression(solver='liblinear', random_state=RND)\n",
    "model.fit(x_train, y_train)\n",
    "one_proba = model.predict_proba(x_valid)[:,1]\n",
    "\n",
    "y_pred = model.predict(x_valid)\n",
    "print('f1_score для несбалансированной модели:', f1_score(y_valid, y_pred).round(3))\n",
    "print('roc_auc_score для несбалансированной модели:', roc_auc_score(y_valid, one_proba).round(3))"
   ]
  },
  {
   "cell_type": "code",
   "execution_count": 17,
   "id": "f4284381",
   "metadata": {},
   "outputs": [
    {
     "name": "stdout",
     "output_type": "stream",
     "text": [
      "f1_score для несбалансированной модели:  0.511\n",
      "roc_auc_score для сбалансированной модели: 0.792\n"
     ]
    }
   ],
   "source": [
    "model = LogisticRegression(solver='liblinear',class_weight='balanced', random_state=RND)\n",
    "model.fit(x_train, y_train)\n",
    "one_proba = model.predict_proba(x_valid)[:,1]\n",
    "\n",
    "y_pred = model.predict(x_valid)\n",
    "print('f1_score для несбалансированной модели: ',f1_score(y_valid, y_pred).round(3))\n",
    "print('roc_auc_score для сбалансированной модели:', roc_auc_score(y_valid, one_proba).round(3))"
   ]
  },
  {
   "cell_type": "markdown",
   "id": "8059ec2f",
   "metadata": {},
   "source": [
    "<div class=\"alert alert-danger\">\n",
    "<h2>Комментарий ревьюера<a class=\"tocSkip\"></a></h2>\n",
    "\n",
    "**Нужно доработать** ❌: дополнительно к F1-мере в этом проекте нужно измерять AUC-ROC на настроенных моделях и сравнивать изменения F1 и AUC-ROC в выводах на каждом этапе. Так мы сможем проверить, как меняются разные метрики в зависимости от выбранной модели и способа борьбы с дисбалансом</div>"
   ]
  },
  {
   "cell_type": "markdown",
   "id": "f7eb20c7",
   "metadata": {},
   "source": [
    "<div class=\"alert alert-info\">\n",
    "    <b>Комментарий студента:</b> исправил\n",
    "</div>"
   ]
  },
  {
   "cell_type": "markdown",
   "id": "401d7954",
   "metadata": {},
   "source": [
    "<div class=\"alert alert-success\">\n",
    "<h2>Комментарий ревьюера v2<a class=\"tocSkip\"></a></h2>\n",
    "    \n",
    "**Отлично!** ✔️: вот теперь другое дело :)</div>"
   ]
  },
  {
   "cell_type": "markdown",
   "id": "fa666527",
   "metadata": {},
   "source": [
    "Можем видеть, что значение метрики f1 сильно отличается для несбалансированной и сбалансированной моделей, 0.321 и 0.511 соответственно. Следовательно, будем пытаться искать наилучшую модель с учетом баланса классов.  Однако roc_auc_score поменялась не так сильно: 0.788 и 0.792 соответственно"
   ]
  },
  {
   "cell_type": "markdown",
   "id": "3f0420ba",
   "metadata": {},
   "source": [
    "# Модель случайного леса (class_weight = 'balanced')"
   ]
  },
  {
   "cell_type": "markdown",
   "id": "e2634b5c",
   "metadata": {},
   "source": [
    "* Поиск оптимальной глубины на небольшом количестве деревьев"
   ]
  },
  {
   "cell_type": "code",
   "execution_count": 18,
   "id": "f6d85a31",
   "metadata": {},
   "outputs": [
    {
     "name": "stdout",
     "output_type": "stream",
     "text": [
      "Максимальное значение метрики f1 (10 деревьев): 0.626\n",
      "Оптимальная глубина: 11\n"
     ]
    }
   ],
   "source": [
    "max_f1 = 0\n",
    "best_depth = 0 \n",
    "for i in range(1, 50): \n",
    "    model = RandomForestClassifier(n_estimators=10,max_depth=i, random_state=RND, class_weight='balanced')\n",
    "    model.fit(x_train, y_train)\n",
    "    y_pred = model.predict(x_valid)\n",
    "    f1 = f1_score(y_valid, y_pred)\n",
    "    if f1 > max_f1: \n",
    "        max_f1 = f1\n",
    "        best_depth = i\n",
    "        forest = model\n",
    "print('Максимальное значение метрики f1 (10 деревьев):', max_f1.round(3))\n",
    "print('Оптимальная глубина:', best_depth)"
   ]
  },
  {
   "cell_type": "markdown",
   "id": "4c819f14",
   "metadata": {},
   "source": [
    "* Значение метрики f1 с оптимальной глубиной и большим количеством деревьев"
   ]
  },
  {
   "cell_type": "code",
   "execution_count": 19,
   "id": "efdc4587",
   "metadata": {},
   "outputs": [
    {
     "name": "stdout",
     "output_type": "stream",
     "text": [
      "Максимальное значение метрики f1 (100 деревьев): 0.628\n"
     ]
    }
   ],
   "source": [
    "forest = RandomForestClassifier(n_estimators=100,\n",
    "                                max_depth=best_depth, \n",
    "                                random_state=RND, \n",
    "                                class_weight='balanced')\n",
    "forest.fit(x_train, y_train)\n",
    "y_pred = forest.predict(x_valid)\n",
    "f1_forest = f1_score(y_valid, y_pred)\n",
    "print('Максимальное значение метрики f1 (100 деревьев):', f1_forest.round(3))"
   ]
  },
  {
   "cell_type": "markdown",
   "id": "299a9416",
   "metadata": {},
   "source": [
    "* Поиск оптимального порога для вероятностей классов"
   ]
  },
  {
   "cell_type": "code",
   "execution_count": 20,
   "id": "a51529d6",
   "metadata": {},
   "outputs": [
    {
     "name": "stdout",
     "output_type": "stream",
     "text": [
      "Оптимальный порог для положительного ответа: 0.485\n",
      "Максимальное значение метрики f1 0.63\n",
      "Значение метрики roc_auc_score 0.866\n"
     ]
    }
   ],
   "source": [
    "one_prob = forest.predict_proba(x_valid)[:,1]\n",
    "f1_max = 0 \n",
    "best_threshold = 0\n",
    "for threshold in np.arange(0, 1, 0.005): \n",
    "    y_pred = one_prob > threshold\n",
    "    f1 = f1_score(y_valid, y_pred)\n",
    "    if f1 > f1_max: \n",
    "        f1_max = f1\n",
    "        best_threshold = threshold\n",
    "\n",
    "roc_auc = roc_auc_score(y_valid, one_prob)\n",
    "    \n",
    "print('Оптимальный порог для положительного ответа:', best_threshold.round(3))\n",
    "print('Максимальное значение метрики f1', f1_max.round(3))\n",
    "print('Значение метрики roc_auc_score', roc_auc.round(3))"
   ]
  },
  {
   "cell_type": "markdown",
   "id": "39e7ea1b",
   "metadata": {},
   "source": [
    "С помощью изменения порога вероятностей классов удалось добиться максимальной метрики **f1 = 0.63**. В такой модели **roc_auc_score = 0.866**,  модель предсказывает ощутимо лучше случайной модели. "
   ]
  },
  {
   "cell_type": "markdown",
   "id": "a9debfc1",
   "metadata": {},
   "source": [
    "# Модель случайного леса (upsample)"
   ]
  },
  {
   "cell_type": "code",
   "execution_count": 21,
   "id": "26ce578d",
   "metadata": {},
   "outputs": [],
   "source": [
    "def upsample(features, target, repeat): \n",
    "    features_zeros = features[target == 0]\n",
    "    features_ones =  features[target == 1]\n",
    "\n",
    "    target_zeros = target[target == 0]\n",
    "    target_ones = target[target == 1]\n",
    "\n",
    "    features_new = pd.concat([features_zeros]+ [features_ones] * repeat)\n",
    "    target_new = pd.concat ([target_zeros] + [target_ones] * repeat)\n",
    "\n",
    "    \n",
    "    features_new, target_new = shuffle(features_new, target_new, random_state=RND)\n",
    "    \n",
    "    return features_new, target_new \n",
    "    "
   ]
  },
  {
   "cell_type": "markdown",
   "id": "38dbbc0a",
   "metadata": {},
   "source": [
    "* Поиск оптимальной глубины на небольшом количестве деревьев"
   ]
  },
  {
   "cell_type": "code",
   "execution_count": 22,
   "id": "948d0cef",
   "metadata": {},
   "outputs": [
    {
     "name": "stdout",
     "output_type": "stream",
     "text": [
      "Максимальное значение метрики f1 (10 деревьев): 0.623\n",
      "Оптимальная глубина: 11\n"
     ]
    }
   ],
   "source": [
    "x1_train, y1_train = upsample(x_train, y_train, 4) \n",
    "f1_max = 0\n",
    "best_depth_up = 0 \n",
    "for i in range(1, 50): \n",
    "    model = RandomForestClassifier(n_estimators=10,max_depth=i, random_state=RND)\n",
    "    model.fit(x1_train, y1_train)\n",
    "    y_pred = model.predict(x_valid)\n",
    "    f1 = f1_score(y_valid, y_pred)\n",
    "    if f1 > f1_max: \n",
    "        f1_max = f1\n",
    "        best_depth_up = i\n",
    "        forest = model\n",
    "print('Максимальное значение метрики f1 (10 деревьев):', f1_max.round(3))\n",
    "print('Оптимальная глубина:', best_depth_up)"
   ]
  },
  {
   "cell_type": "markdown",
   "id": "c3ad2e00",
   "metadata": {},
   "source": [
    "* Значение метрики f1 с оптимальной глубиной и большим количеством деревьев"
   ]
  },
  {
   "cell_type": "code",
   "execution_count": 23,
   "id": "fbfc512e",
   "metadata": {},
   "outputs": [
    {
     "name": "stdout",
     "output_type": "stream",
     "text": [
      "Максимальное значение метрики f1 (100 деревьев): 0.637\n"
     ]
    }
   ],
   "source": [
    "forest1 = RandomForestClassifier(n_estimators=100,\n",
    "                                 max_depth=best_depth_up, \n",
    "                                 random_state=RND)\n",
    "forest1.fit(x1_train, y1_train)\n",
    "y_pred = forest1.predict(x_valid)\n",
    "f1_forest_up = f1_score(y_valid, y_pred)\n",
    "print('Максимальное значение метрики f1 (100 деревьев):', f1_forest_up.round(3))\n"
   ]
  },
  {
   "cell_type": "markdown",
   "id": "73455b31",
   "metadata": {},
   "source": [
    "* Поиск оптимального порога для вероятностей классов"
   ]
  },
  {
   "cell_type": "code",
   "execution_count": 24,
   "id": "6813daa0",
   "metadata": {},
   "outputs": [
    {
     "name": "stdout",
     "output_type": "stream",
     "text": [
      "Оптимальный порог для положительного ответа: 0.5\n",
      "Максимальное значение метрики f1: 0.637\n",
      "Значение метрики roc_auc_score: 0.866\n"
     ]
    }
   ],
   "source": [
    "one_prob = forest1.predict_proba(x_valid)[:,1]\n",
    "f1_max = 0 \n",
    "best_threshold_up = 0\n",
    "for threshold in np.arange(0, 1, 0.005): \n",
    "    y_pred = one_prob > threshold\n",
    "    f1 = f1_score(y_valid, y_pred)\n",
    "    if f1 > f1_max: \n",
    "        f1_max = f1\n",
    "        best_threshold_up = threshold\n",
    "        \n",
    "roc_auc = roc_auc_score(y_valid, one_prob)\n",
    "print('Оптимальный порог для положительного ответа:', best_threshold_up.round(3))\n",
    "print('Максимальное значение метрики f1:', f1_max.round(3))\n",
    "print('Значение метрики roc_auc_score:', roc_auc.round(3))"
   ]
  },
  {
   "cell_type": "markdown",
   "id": "d775e4eb",
   "metadata": {},
   "source": [
    "<div class=\"alert alert-danger\">\n",
    "<h2>Комментарий ревьюера<a class=\"tocSkip\"></a></h2>\n",
    "\n",
    "**Нужно доработать** ❌: обрати внимание, что для расчета AUC-ROC необходимо использовать «вероятности» класса «1», полученные методом `predict_proba` без учета порога классификации, как было в тренажере, нужно поправить</div>"
   ]
  },
  {
   "cell_type": "markdown",
   "id": "817979b6",
   "metadata": {},
   "source": [
    "<div class=\"alert alert-info\">\n",
    "    <b>Комментарий студента:</b> исправил\n",
    "</div>"
   ]
  },
  {
   "cell_type": "markdown",
   "id": "28d2a275",
   "metadata": {},
   "source": [
    "<div class=\"alert alert-success\">\n",
    "<h2>Комментарий ревьюера v2<a class=\"tocSkip\"></a></h2>\n",
    "    \n",
    "**Отлично!** ✔️: 👍</div>"
   ]
  },
  {
   "cell_type": "markdown",
   "id": "e6e183cf",
   "metadata": {},
   "source": [
    "# Модель случайного леса (downsample)\n",
    "Уменьшим количество элементов с отрицательным ответом"
   ]
  },
  {
   "cell_type": "code",
   "execution_count": 25,
   "id": "20b2aa35",
   "metadata": {},
   "outputs": [],
   "source": [
    "def downsample(features, target, frac): \n",
    "    features_zeros = features[target == 0]\n",
    "    features_ones =  features[target == 1]\n",
    "\n",
    "    target_zeros = target[target == 0]\n",
    "    target_ones = target[target == 1]\n",
    "    \n",
    "    features_new = pd.concat([features_ones]+ [features_zeros.sample(frac=frac, random_state=RND) ] )\n",
    "    target_new = pd.concat ([target_ones] + [target_zeros.sample(frac=frac, random_state=RND)])\n",
    "\n",
    "    features_new, target_new = shuffle(features_new, target_new, random_state=RND)  \n",
    "    return features_new, target_new "
   ]
  },
  {
   "cell_type": "markdown",
   "id": "3216d48d",
   "metadata": {},
   "source": [
    "* Поиск оптимальной глубины на небольшом количестве деревьев"
   ]
  },
  {
   "cell_type": "code",
   "execution_count": 26,
   "id": "148be61a",
   "metadata": {},
   "outputs": [
    {
     "name": "stdout",
     "output_type": "stream",
     "text": [
      "Максимальное значение метрики f1 (10 деревьев): 0.613\n",
      "Оптимальная глубина: 5\n"
     ]
    }
   ],
   "source": [
    "x2_train, y2_train = downsample(x_train, y_train, 0.25) \n",
    "f1_max = 0\n",
    "best_depth_down = 0 \n",
    "for i in range(1, 50): \n",
    "    model = RandomForestClassifier(n_estimators=10,max_depth=i, random_state=RND)\n",
    "    model.fit(x2_train, y2_train)\n",
    "    y_pred = model.predict(x_valid)\n",
    "    f1 = f1_score(y_valid, y_pred)\n",
    "    if f1 > f1_max: \n",
    "        f1_max = f1\n",
    "        best_depth_down = i\n",
    "        forest2 = model\n",
    "print('Максимальное значение метрики f1 (10 деревьев):', f1_max.round(3))\n",
    "print('Оптимальная глубина:', best_depth_down)"
   ]
  },
  {
   "cell_type": "markdown",
   "id": "6cdd0650",
   "metadata": {},
   "source": [
    "* Значение метрики f1 с оптимальной глубиной и большим количеством деревьев"
   ]
  },
  {
   "cell_type": "code",
   "execution_count": 27,
   "id": "727222b4",
   "metadata": {},
   "outputs": [
    {
     "name": "stdout",
     "output_type": "stream",
     "text": [
      "Максимальное значение метрики f1 (100 деревьев): 0.602\n"
     ]
    }
   ],
   "source": [
    "forest2 = RandomForestClassifier(n_estimators=100,\n",
    "                                 max_depth=best_depth_down, \n",
    "                                 random_state=RND)\n",
    "forest2.fit(x2_train, y2_train)\n",
    "y_pred = forest2.predict(x_valid)\n",
    "f1_forest_down = f1_score(y_valid, y_pred)\n",
    "print('Максимальное значение метрики f1 (100 деревьев):', f1_forest_down.round(3))"
   ]
  },
  {
   "cell_type": "markdown",
   "id": "dda54d6b",
   "metadata": {},
   "source": [
    "* Поиск оптимального порога для вероятностей классов"
   ]
  },
  {
   "cell_type": "code",
   "execution_count": 28,
   "id": "ca5aeb7e",
   "metadata": {},
   "outputs": [
    {
     "name": "stdout",
     "output_type": "stream",
     "text": [
      "Оптимальный порог для положительного ответа: 0.565\n",
      "Максимальное значение метрики f1: 0.649\n",
      "Значение метрики roc_auc_score: 0.869\n"
     ]
    }
   ],
   "source": [
    "one_prob = forest2.predict_proba(x_valid)[:,1]\n",
    "f1_max = 0 \n",
    "best_threshold_down = 0\n",
    "for threshold in np.arange(0, 1, 0.005): \n",
    "    y_pred = one_prob > threshold\n",
    "    f1 = f1_score(y_valid, y_pred)\n",
    "    if f1 > f1_max: \n",
    "        f1_max = f1\n",
    "        best_threshold_down = threshold\n",
    "        \n",
    "roc_auc = roc_auc_score(y_valid, one_prob)\n",
    "    \n",
    "print('Оптимальный порог для положительного ответа:', best_threshold_down.round(3))\n",
    "print('Максимальное значение метрики f1:', f1_max.round(3))\n",
    "print('Значение метрики roc_auc_score:', roc_auc.round(3))"
   ]
  },
  {
   "cell_type": "markdown",
   "id": "9c653d98",
   "metadata": {},
   "source": [
    "## Логистическая регрессия (class_weight = 'balanced')"
   ]
  },
  {
   "cell_type": "code",
   "execution_count": 29,
   "id": "bc5d8f3a",
   "metadata": {},
   "outputs": [
    {
     "name": "stdout",
     "output_type": "stream",
     "text": [
      "Оптимальный порог для положительного ответа: 0.57\n",
      "Максимальное значение метрики f1: 0.536\n",
      "Значение метрики roc_auc_score: 0.792\n"
     ]
    }
   ],
   "source": [
    "logistic2 = LogisticRegression(solver='liblinear', random_state=RND, class_weight='balanced')\n",
    "logistic2.fit(x_train, y_train)\n",
    "one_prob = logistic2.predict_proba(x_valid)[:,1]\n",
    "f1_max = 0 \n",
    "best_threshold_down = 0\n",
    "for threshold in np.arange(0, 1, 0.005): \n",
    "    y_pred = one_prob > threshold\n",
    "    f1 = f1_score(y_valid, y_pred)\n",
    "    if f1 > f1_max: \n",
    "        f1_max = f1\n",
    "        best_threshold_down = threshold\n",
    "        \n",
    "roc_auc = roc_auc_score(y_valid, one_prob)\n",
    "    \n",
    "print('Оптимальный порог для положительного ответа:', best_threshold_down.round(3))\n",
    "print('Максимальное значение метрики f1:', f1_max.round(3))\n",
    "print('Значение метрики roc_auc_score:', roc_auc.round(3))\n"
   ]
  },
  {
   "cell_type": "markdown",
   "id": "d97a9a4e",
   "metadata": {},
   "source": [
    "## Логистическая регрессия (upsample)"
   ]
  },
  {
   "cell_type": "code",
   "execution_count": 30,
   "id": "df50abe2",
   "metadata": {},
   "outputs": [
    {
     "name": "stdout",
     "output_type": "stream",
     "text": [
      "Оптимальный порог для положительного ответа: 0.57\n",
      "Максимальное значение метрики f1: 0.537\n",
      "Значение метрики roc_auc_score: 0.792\n"
     ]
    }
   ],
   "source": [
    "logistic = LogisticRegression(solver='liblinear', random_state=RND)\n",
    "logistic.fit(x1_train, y1_train)\n",
    "one_prob = logistic.predict_proba(x_valid)[:,1]\n",
    "f1_max = 0 \n",
    "best_threshold_down = 0\n",
    "for threshold in np.arange(0, 1, 0.005): \n",
    "    y_pred = one_prob > threshold\n",
    "    f1 = f1_score(y_valid, y_pred)\n",
    "    if f1 > f1_max: \n",
    "        f1_max = f1\n",
    "        best_threshold_down = threshold\n",
    "        \n",
    "roc_auc = roc_auc_score(y_valid, one_prob)\n",
    "    \n",
    "print('Оптимальный порог для положительного ответа:', best_threshold_down.round(3))\n",
    "print('Максимальное значение метрики f1:', f1_max.round(3))\n",
    "print('Значение метрики roc_auc_score:', roc_auc.round(3))\n"
   ]
  },
  {
   "cell_type": "markdown",
   "id": "85cadb5b",
   "metadata": {},
   "source": [
    "## Логистическая регрессия (downsample)"
   ]
  },
  {
   "cell_type": "code",
   "execution_count": 31,
   "id": "9fc18ea4",
   "metadata": {},
   "outputs": [
    {
     "name": "stdout",
     "output_type": "stream",
     "text": [
      "Оптимальный порог для положительного ответа: 0.57\n",
      "Максимальное значение метрики f1: 0.536\n",
      "Значение метрики roc_auc_score: 0.793\n"
     ]
    }
   ],
   "source": [
    "logistic1 = LogisticRegression(solver='liblinear', random_state=RND)\n",
    "logistic1.fit(x2_train, y2_train)\n",
    "one_prob = logistic1.predict_proba(x_valid)[:,1]\n",
    "f1_max = 0 \n",
    "best_threshold_down = 0\n",
    "for threshold in np.arange(0, 1, 0.005): \n",
    "    y_pred = one_prob > threshold\n",
    "    f1 = f1_score(y_valid, y_pred)\n",
    "    if f1 > f1_max: \n",
    "        f1_max = f1\n",
    "        best_threshold_down = threshold\n",
    "        \n",
    "roc_auc = roc_auc_score(y_valid, one_prob)\n",
    "    \n",
    "print('Оптимальный порог для положительного ответа:', best_threshold_down.round(3))\n",
    "print('Максимальное значение метрики f1:', f1_max.round(3))\n",
    "print('Значение метрики roc_auc_score:', roc_auc.round(3))"
   ]
  },
  {
   "cell_type": "markdown",
   "id": "afa41592",
   "metadata": {},
   "source": [
    "## Таблицы метрик для случайного леса и логистической регрессии "
   ]
  },
  {
   "cell_type": "markdown",
   "id": "19b13e6e",
   "metadata": {},
   "source": [
    "* Случайный лес: \n",
    "\n",
    "| Method                  | f1_score|  roc_auc_dcore  |  threshold | max_depth    |\n",
    "|:----------------------- |:------- |:--------------- |:---------- |:-------------|\n",
    "| class_weight='balanced' |  0.63   |        0.866    |    0.485   |   11           |\n",
    "| upsample                |  0.637  |        0.866    |    0.5     |   11           |\n",
    "| **downsample**          |**0.649**| **0.869**       | **0.565**  |   **5**           |"
   ]
  },
  {
   "cell_type": "markdown",
   "id": "41954025",
   "metadata": {},
   "source": [
    "* Логистическая регрессия: \n",
    "\n",
    "| Method                  | f1_score|  roc_auc_dcore  |  threshold |\n",
    "|:----------------------- |:--------|:--------------- |:---------- |\n",
    "| class_weight='balanced' |  0.536  |        0.792    |    0.57    |\n",
    "| upsample                |  0.537  |        0.792    |    0.57    |\n",
    "| downsample              |  0.536  |        0.793    |    0.57    |"
   ]
  },
  {
   "cell_type": "markdown",
   "id": "73bc9e77",
   "metadata": {},
   "source": [
    "# Вывод\n",
    "* Было рассмотрено 3 основных метода балансировки классов: встроенный (class_weight='balanced'), upsampling (увеличение редкого класса), downsampling (уменьшение доминирующего класса). \n",
    "\n",
    "\n",
    "* Наибольшее значение метрики F-1 на валидационной выборке достигла модель случайного леса, в которой балансировка классов выполнялась с помощью уменьшения редкого класса класса: f1_score = 0.649, она же достигла максимального значения roc_auc_score = 0.869. Оставшиеся две модели случайного леса достигли немного меньших значений, но все равно уложились в отметку 0.59. \n",
    "\n",
    "\n",
    "* Модели логистической регрессии не смоги превысить нужную величину метрики F1.\n"
   ]
  },
  {
   "cell_type": "markdown",
   "id": "83c8bd9f",
   "metadata": {},
   "source": [
    "<div class=\"alert alert-success\">\n",
    "<h2>Комментарий ревьюера<a class=\"tocSkip\"></a></h2>\n",
    "    \n",
    "**Отлично!** ✔️: методы борьбы с дисбалансом применены верно!</div>"
   ]
  },
  {
   "cell_type": "markdown",
   "id": "a784b8d7",
   "metadata": {},
   "source": [
    "<div class=\"alert alert-warning\">\n",
    "<h2>Комментарий ревьюера<a class=\"tocSkip\"></a></h2>\n",
    "    \n",
    "**Есть совет** ⚠️: но для наглядности не хватает таблички с результатами, где будет название модели, примененный способ борьбы с дисбалансом, лучшие гиперпараметры и значения метрик F1 и ROC-AUC</div>"
   ]
  },
  {
   "cell_type": "markdown",
   "id": "1e155f52",
   "metadata": {},
   "source": [
    "<div class=\"alert alert-info\">\n",
    "    <b>Комментарий студента:</b> исправил\n",
    "</div>"
   ]
  },
  {
   "cell_type": "markdown",
   "id": "12baaada",
   "metadata": {},
   "source": [
    "<div class=\"alert alert-success\">\n",
    "<h2>Комментарий ревьюера v2<a class=\"tocSkip\"></a></h2>\n",
    "    \n",
    "**Отлично!** ✔️: классная получилась табличка!</div>"
   ]
  },
  {
   "cell_type": "markdown",
   "id": "662525f8",
   "metadata": {},
   "source": [
    "# Тестирование лучшей модели"
   ]
  },
  {
   "cell_type": "markdown",
   "id": "a0b0ad51",
   "metadata": {},
   "source": [
    "Возьмем лучшую модель случайного леса: 100 деревьев, максимальная глубина - 10, порог вероятностей класса 1 - 0.515. Обучим на валидационной и тестовой выборках, а затем вычислим необходимые метрики на тестовом наборе данных."
   ]
  },
  {
   "cell_type": "code",
   "execution_count": 32,
   "id": "06008563",
   "metadata": {},
   "outputs": [
    {
     "name": "stdout",
     "output_type": "stream",
     "text": [
      "f1_score: 0.63\n",
      "roc_auc_score: 0.864\n"
     ]
    }
   ],
   "source": [
    "x3_train = pd.concat([x_train, x_valid])\n",
    "y3_train = pd.concat([y_train, y_valid])\n",
    "x4_train, y4_train = downsample(x3_train, y3_train, 0.25)\n",
    "best_model = RandomForestClassifier(n_estimators=100, max_depth=5, random_state=RND)\n",
    "threshold = 0.565\n",
    "best_model.fit(x4_train, y4_train)\n",
    "proba = best_model.predict_proba(x_test)[:,1]\n",
    "y_pred = proba > threshold \n",
    "\n",
    "f1 = f1_score(y_test, y_pred)\n",
    "roc_auc = roc_auc_score(y_test, proba)\n",
    "\n",
    "print('f1_score:', f1.round(3))\n",
    "print('roc_auc_score:', roc_auc.round(3))"
   ]
  },
  {
   "cell_type": "markdown",
   "id": "03f9f695",
   "metadata": {},
   "source": [
    "<div class=\"alert alert-success\">\n",
    "<h2>Комментарий ревьюера<a class=\"tocSkip\"></a></h2>\n",
    "    \n",
    "**Отлично!** ✔️: бейзлайн побит, ура!</div>"
   ]
  },
  {
   "cell_type": "markdown",
   "id": "59e10086",
   "metadata": {},
   "source": [
    "## График TPR, FPR"
   ]
  },
  {
   "cell_type": "code",
   "execution_count": 33,
   "id": "2eb3ce83",
   "metadata": {},
   "outputs": [
    {
     "data": {
      "image/png": "[encoded data removed]",
      "text/plain": [
       "<Figure size 780x520 with 1 Axes>"
      ]
     },
     "metadata": {
      "needs_background": "light"
     },
     "output_type": "display_data"
    }
   ],
   "source": [
    "tpr, fpr, threshold = roc_curve(y_test, proba)\n",
    "\n",
    "plt.figure( dpi=130)\n",
    "plt.plot(tpr, fpr)\n",
    "plt.plot([0,1], [0,1], linestyle='--')\n",
    "plt.xlim([0,1])\n",
    "plt.ylim([0,1])\n",
    "plt.xlabel(\"False Positive Rate\")\n",
    "plt.ylabel(\"True Positive Rate\")\n",
    "plt.title(f'ROC-кривая\\n roc_auc_score = {roc_auc:.3f}')\n",
    "plt.show()"
   ]
  },
  {
   "cell_type": "markdown",
   "id": "2f1a8112",
   "metadata": {},
   "source": [
    "# Итог"
   ]
  },
  {
   "cell_type": "markdown",
   "id": "8aff3ef7",
   "metadata": {},
   "source": [
    " Был обработан датасет оттока клиентов из банка. Проверялись модели случайного леса и логистической регрессии. Выяснилось, что на f1_score и roc_auc_score сильно влияет балансировка класса, без нее не удалось бы достичь нужной отметки в 0.59. \n",
    "\n",
    "*  Качественные признаки были обработаны методом OHE, а количественные были масштабированы и сдвинуты при помощи стандартизации.\n",
    "\n",
    "\n",
    "*  Сравнивались между собой три основных метода балансировки: встроенный метод, upsampling, downsampling.\n",
    "\n",
    "\n",
    "*  Модель логистической регрессии не смогла превысить порог значения метрики f1 даже с балансировкой классов.\n",
    "\n",
    "\n",
    "*  Для модели случайного леса в данной задаче оптимальной балансировкой классов является метод downsampling, т.е. уменьшение доминирующего класса.\n",
    "\n",
    "\n",
    "*  На тестовой выборке лучшая модель достигла значения метрик **F-1 = 0.63**, **roc_auc = 0.864**. \n"
   ]
  },
  {
   "cell_type": "markdown",
   "id": "910c9fa6",
   "metadata": {},
   "source": [
    "<div style=\"padding: 20px 25px; border: 2px #6495ed solid\">\n",
    "    \n",
    "<h2 style=\"color: #87187D\">Итоговый комментарий ревьюера<a class=\"tocSkip\"></a></h2>\n",
    "\n",
    "Видно, что ты приложил много усилий и хорошо освоил материалы модуля, спасибо за проект!\n",
    "\n",
    "Осталось поправить расчет AUC-ROC и добавить его на каждом этапе\n",
    "\n",
    "Остальные комментарии можно найти в проекте. Готов ответить на любые вопросы :)\n",
    "\n",
    "<b>Жду доработанный проект на повторное ревью! Удачи!</b>\n",
    "        \n",
    "</div>"
   ]
  },
  {
   "cell_type": "markdown",
   "id": "e2773dc6",
   "metadata": {},
   "source": [
    "<div style=\"padding: 20px 25px; border: 2px #6495ed solid\">\n",
    "    \n",
    "<h2 style=\"color: #87187D\">Итоговый комментарий ревьюера v2<a class=\"tocSkip\"></a></h2>\n",
    "\n",
    "Теперь то, что нужно, молодец!\n",
    "\n",
    "Все критичные замечания исправлены, и я могу принять твою работу :)\n",
    "\n",
    "<b>Успехов в обучении!</b>\n",
    "        \n",
    "</div>"
   ]
  }
 ],
 "metadata": {
  "kernelspec": {
   "display_name": "Python 3 (ipykernel)",
   "language": "python",
   "name": "python3"
  },
  "language_info": {
   "codemirror_mode": {
    "name": "ipython",
    "version": 3
   },
   "file_extension": ".py",
   "mimetype": "text/x-python",
   "name": "python",
   "nbconvert_exporter": "python",
   "pygments_lexer": "ipython3",
   "version": "3.9.5"
  },
  "toc": {
   "base_numbering": 1,
   "nav_menu": {},
   "number_sections": true,
   "sideBar": true,
   "skip_h1_title": true,
   "title_cell": "Table of Contents",
   "title_sidebar": "Contents",
   "toc_cell": false,
   "toc_position": {},
   "toc_section_display": true,
   "toc_window_display": false
  }
 },
 "nbformat": 4,
 "nbformat_minor": 5
}
